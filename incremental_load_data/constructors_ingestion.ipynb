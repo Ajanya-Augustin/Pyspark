{
 "cells": [
  {
   "cell_type": "code",
   "execution_count": 1,
   "id": "0073e672",
   "metadata": {},
   "outputs": [],
   "source": [
    "file_date = '2021-03-21'"
   ]
  },
  {
   "cell_type": "markdown",
   "id": "a89d5a0f",
   "metadata": {},
   "source": [
    "<div style=\"max-width:1400px;margin-center: auto\">\n",
    "<img src=\"images\\constructor.png\" width=\"600\"/>\n",
    "</div>"
   ]
  },
  {
   "cell_type": "code",
   "execution_count": 2,
   "id": "3e1bc2da",
   "metadata": {},
   "outputs": [],
   "source": [
    "import findspark\n",
    "findspark.init()\n",
    "import pyspark\n",
    "from pyspark import SparkContext, SparkConf\n",
    "from pyspark.sql import SparkSession\n",
    "spark = SparkSession.builder.master('local') \\\n",
    "    .appName(\"constructor\") \\\n",
    "    .config(\"spark.sql.catalogImplementation\", \"hive\") \\\n",
    "    .getOrCreate()\n",
    "import os\n",
    "os.chdir(os.getcwd())"
   ]
  },
  {
   "cell_type": "code",
   "execution_count": 3,
   "id": "872da588",
   "metadata": {},
   "outputs": [],
   "source": [
    "from pyspark.sql.functions import col,current_timestamp,lit"
   ]
  },
  {
   "cell_type": "code",
   "execution_count": 4,
   "id": "a3b84f93",
   "metadata": {},
   "outputs": [],
   "source": [
    "constructors_schema = \"constructorId INT, constructorRef INT, name STRING, nationality STRING, url STRING \""
   ]
  },
  {
   "cell_type": "code",
   "execution_count": 5,
   "id": "d4be8d74",
   "metadata": {},
   "outputs": [
    {
     "name": "stdout",
     "output_type": "stream",
     "text": [
      "+-------------+--------------+----------+-----------+--------------------+\n",
      "|constructorId|constructorRef|      name|nationality|                 url|\n",
      "+-------------+--------------+----------+-----------+--------------------+\n",
      "|            1|          null|   McLaren|    British|http://en.wikiped...|\n",
      "|            2|          null|BMW Sauber|     German|http://en.wikiped...|\n",
      "+-------------+--------------+----------+-----------+--------------------+\n",
      "only showing top 2 rows\n",
      "\n"
     ]
    }
   ],
   "source": [
    "constructor_df = spark.read.json(f'raw files\\\\{file_date}\\\\constructors.json', schema = constructors_schema )\n",
    "constructor_df.show(2)"
   ]
  },
  {
   "cell_type": "code",
   "execution_count": 6,
   "id": "e349cd88",
   "metadata": {},
   "outputs": [],
   "source": [
    "# constructor_trans_df = constructor_df.select(col(\"constructorId\").alias(\"constructor_id\"),\n",
    "#                                              col(\"constructorRef\").alias(\"constructor_ref\"),\n",
    "#                                              col(\"name\"),\n",
    "#                                              col(\"nationality\"))\n",
    "# constructor_trans_df.show(2)"
   ]
  },
  {
   "cell_type": "code",
   "execution_count": 7,
   "id": "61ddb783",
   "metadata": {},
   "outputs": [
    {
     "name": "stdout",
     "output_type": "stream",
     "text": [
      "+-------------+--------------+----------+-----------+\n",
      "|constructorId|constructorRef|      name|nationality|\n",
      "+-------------+--------------+----------+-----------+\n",
      "|            1|          null|   McLaren|    British|\n",
      "|            2|          null|BMW Sauber|     German|\n",
      "+-------------+--------------+----------+-----------+\n",
      "only showing top 2 rows\n",
      "\n"
     ]
    }
   ],
   "source": [
    "# constructor_drop_df = constructor_df.drop(constructor_df.url)\n",
    "# constructor_drop_df = constructor_df.drop(\"url\")\n",
    "# constructor_drop_df = constructor_df.drop(constructor_df[\"url\"])\n",
    "constructor_drop_df = constructor_df.drop(col(\"url\"))\n",
    "constructor_drop_df.show(2)"
   ]
  },
  {
   "cell_type": "code",
   "execution_count": 8,
   "id": "572eadf3",
   "metadata": {},
   "outputs": [],
   "source": [
    "constructor_fnl_df = constructor_drop_df.withColumn(\"ingestion_date\",current_timestamp()).\\\n",
    "                    withColumnRenamed(\"constructorId\",\"constructor_id\").\\\n",
    "                    withColumnRenamed(\"constructorRef\",\"constructor_ref\").\\\n",
    "                    withColumn('file_date',lit(file_date))"
   ]
  },
  {
   "cell_type": "code",
   "execution_count": 9,
   "id": "f6f5db69",
   "metadata": {},
   "outputs": [
    {
     "name": "stdout",
     "output_type": "stream",
     "text": [
      "+--------------+---------------+----------+-----------+--------------------+----------+\n",
      "|constructor_id|constructor_ref|      name|nationality|      ingestion_date| file_date|\n",
      "+--------------+---------------+----------+-----------+--------------------+----------+\n",
      "|             1|           null|   McLaren|    British|2024-01-31 13:18:...|2021-03-21|\n",
      "|             2|           null|BMW Sauber|     German|2024-01-31 13:18:...|2021-03-21|\n",
      "+--------------+---------------+----------+-----------+--------------------+----------+\n",
      "only showing top 2 rows\n",
      "\n"
     ]
    }
   ],
   "source": [
    "constructor_fnl_df.show(2)"
   ]
  },
  {
   "cell_type": "code",
   "execution_count": 10,
   "id": "e6d34e9b",
   "metadata": {},
   "outputs": [],
   "source": [
    "constructor_fnl_df.write.mode('overwrite').format('delta').saveAsTable('f1_processed.constructors')"
   ]
  }
 ],
 "metadata": {
  "kernelspec": {
   "display_name": "Python 3 (ipykernel)",
   "language": "python",
   "name": "python3"
  },
  "language_info": {
   "codemirror_mode": {
    "name": "ipython",
    "version": 3
   },
   "file_extension": ".py",
   "mimetype": "text/x-python",
   "name": "python",
   "nbconvert_exporter": "python",
   "pygments_lexer": "ipython3",
   "version": "3.8.18"
  }
 },
 "nbformat": 4,
 "nbformat_minor": 5
}
