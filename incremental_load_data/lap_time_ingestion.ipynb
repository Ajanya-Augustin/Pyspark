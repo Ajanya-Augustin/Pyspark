{
 "cells": [
  {
   "cell_type": "code",
   "execution_count": 21,
   "id": "0b7ee618",
   "metadata": {},
   "outputs": [],
   "source": [
    "file_date = '2021-04-18'"
   ]
  },
  {
   "cell_type": "markdown",
   "id": "f8a4602c",
   "metadata": {},
   "source": [
    "<div style=\"max-width:1400px;margin-center: auto\">\n",
    "<img src=\"images\\laptime.png\" width=\"600\"/>\n",
    "</div>"
   ]
  },
  {
   "cell_type": "code",
   "execution_count": 22,
   "id": "a1ac7e73",
   "metadata": {},
   "outputs": [],
   "source": [
    "import findspark\n",
    "findspark.init()\n",
    "import pyspark\n",
    "from pyspark import SparkContext, SparkConf\n",
    "from pyspark.sql import SparkSession\n",
    "spark = SparkSession.builder.master('local') \\\n",
    "    .appName(\"laptime\") \\\n",
    "    .config(\"spark.sql.catalogImplementation\", \"hive\") \\\n",
    "    .getOrCreate()"
   ]
  },
  {
   "cell_type": "code",
   "execution_count": 23,
   "id": "d4e94246",
   "metadata": {},
   "outputs": [],
   "source": [
    "from pyspark.sql.types import StructField, StructType, IntegerType, StringType\n",
    "from pyspark.sql.functions import col, current_timestamp,desc, lit, count"
   ]
  },
  {
   "cell_type": "code",
   "execution_count": 24,
   "id": "b95b4ad3",
   "metadata": {},
   "outputs": [],
   "source": [
    "lap_time_schema = StructType( fields = [StructField(\"raceId\", IntegerType(), False),\n",
    "                                        StructField(\"driverId\", IntegerType(), True),\n",
    "                                        StructField(\"lap\", IntegerType(), True),\n",
    "                                        StructField(\"position\", IntegerType(), True),\n",
    "                                        StructField(\"time\", StringType(), True),\n",
    "                                        StructField(\"milliseconds\", IntegerType(), True)])"
   ]
  },
  {
   "cell_type": "code",
   "execution_count": 25,
   "id": "5b83781d",
   "metadata": {},
   "outputs": [
    {
     "name": "stdout",
     "output_type": "stream",
     "text": [
      "+------+--------+---+--------+--------+------------+\n",
      "|raceId|driverId|lap|position|    time|milliseconds|\n",
      "+------+--------+---+--------+--------+------------+\n",
      "|  1053|     830|  1|       1|1:38.603|       98603|\n",
      "|  1053|     830|  2|       1|2:29.163|      149163|\n",
      "+------+--------+---+--------+--------+------------+\n",
      "only showing top 2 rows\n",
      "\n"
     ]
    }
   ],
   "source": [
    "lap_time_df = spark.read.csv(f'raw files\\\\{file_date}\\\\lap_times', schema = lap_time_schema)\n",
    "lap_time_df.show(2)"
   ]
  },
  {
   "cell_type": "code",
   "execution_count": 26,
   "id": "744e7c52",
   "metadata": {},
   "outputs": [
    {
     "data": {
      "text/plain": [
       "1124"
      ]
     },
     "execution_count": 26,
     "metadata": {},
     "output_type": "execute_result"
    }
   ],
   "source": [
    "lap_time_df.count()"
   ]
  },
  {
   "cell_type": "code",
   "execution_count": 27,
   "id": "f033ff98",
   "metadata": {
    "scrolled": true
   },
   "outputs": [
    {
     "name": "stdout",
     "output_type": "stream",
     "text": [
      "+-------+---------+---+--------+--------+------------+--------------------+----------+\n",
      "|race_id|driver_id|lap|position|    time|milliseconds|      ingestion_date| file_date|\n",
      "+-------+---------+---+--------+--------+------------+--------------------+----------+\n",
      "|   1053|      830|  1|       1|1:38.603|       98603|2024-02-01 12:34:...|2021-04-18|\n",
      "|   1053|      830|  2|       1|2:29.163|      149163|2024-02-01 12:34:...|2021-04-18|\n",
      "+-------+---------+---+--------+--------+------------+--------------------+----------+\n",
      "only showing top 2 rows\n",
      "\n"
     ]
    }
   ],
   "source": [
    "lap_time_fnl_df = lap_time_df.withColumnRenamed(\"raceId\",\"race_id\").\\\n",
    "                              withColumnRenamed(\"driverId\",\"driver_id\").\\\n",
    "                              withColumn(\"ingestion_date\",current_timestamp()).\\\n",
    "                              withColumn(\"file_date\",lit(file_date))\n",
    "lap_time_fnl_df.show(2)"
   ]
  },
  {
   "cell_type": "code",
   "execution_count": 28,
   "id": "c037a51f",
   "metadata": {},
   "outputs": [],
   "source": [
    "%run \"common_functions.ipynb\""
   ]
  },
  {
   "cell_type": "code",
   "execution_count": 29,
   "id": "9ffb461a",
   "metadata": {},
   "outputs": [],
   "source": [
    "overwrite_partition(lap_time_fnl_df, 'f1_processed', 'lap_times', 'race_id')"
   ]
  },
  {
   "cell_type": "code",
   "execution_count": 30,
   "id": "862828ca",
   "metadata": {},
   "outputs": [
    {
     "name": "stdout",
     "output_type": "stream",
     "text": [
      "df_file1_count for each raceId : \n",
      "+-------+--------+\n",
      "|race_id|count(1)|\n",
      "+-------+--------+\n",
      "|   1053|    1124|\n",
      "|   1052|    1026|\n",
      "|   1047|    1043|\n",
      "|   1046|    1531|\n",
      "|   1045|    1016|\n",
      "|   1044|    1076|\n",
      "|   1043|    1128|\n",
      "|   1042|    1288|\n",
      "|   1041|    1017|\n",
      "|   1040|     946|\n",
      "|   1039|     778|\n",
      "|   1038|     924|\n",
      "|   1037|     766|\n",
      "|   1036|    1274|\n",
      "|   1035|    1025|\n",
      "|   1034|     895|\n",
      "|   1033|    1327|\n",
      "|   1032|    1226|\n",
      "|   1031|    1140|\n",
      "|   1030|    1075|\n",
      "+-------+--------+\n",
      "only showing top 20 rows\n",
      "\n"
     ]
    }
   ],
   "source": [
    "df = spark.sql('SELECT * FROM f1_processed.lap_times')\n",
    "print('df_file1_count for each raceId : ')\n",
    "df.groupBy('race_id').agg(count('*')).orderBy(desc('race_id')).show()"
   ]
  }
 ],
 "metadata": {
  "kernelspec": {
   "display_name": "Python 3 (ipykernel)",
   "language": "python",
   "name": "python3"
  },
  "language_info": {
   "codemirror_mode": {
    "name": "ipython",
    "version": 3
   },
   "file_extension": ".py",
   "mimetype": "text/x-python",
   "name": "python",
   "nbconvert_exporter": "python",
   "pygments_lexer": "ipython3",
   "version": "3.8.18"
  }
 },
 "nbformat": 4,
 "nbformat_minor": 5
}
