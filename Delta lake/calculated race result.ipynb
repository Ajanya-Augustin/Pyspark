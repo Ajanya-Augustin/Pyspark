{
 "cells": [
  {
   "cell_type": "code",
   "execution_count": null,
   "id": "e49e1383",
   "metadata": {},
   "outputs": [],
   "source": [
    "v_file_date = '21-03-2021'"
   ]
  },
  {
   "cell_type": "code",
   "execution_count": 2,
   "id": "5ed5ccc0",
   "metadata": {},
   "outputs": [],
   "source": [
    "import pyspark\n",
    "from pyspark.sql import SparkSession\n",
    "from delta import *\n",
    "\n",
    "builder = pyspark.sql.SparkSession.builder.appName(\"delta\") \\\n",
    "    .config(\"spark.sql.extensions\", \"io.delta.sql.DeltaSparkSessionExtension\") \\\n",
    "    .config(\"spark.sql.catalog.spark_catalog\", \"org.apache.spark.sql.delta.catalog.DeltaCatalog\")\n",
    "\n",
    "# Create spark context\n",
    "spark = configure_spark_with_delta_pip(builder).getOrCreate()"
   ]
  },
  {
   "cell_type": "code",
   "execution_count": null,
   "id": "13a7da85",
   "metadata": {},
   "outputs": [],
   "source": [
    "spark.sql(f\"\"\"\n",
    "              CREATE TABLE IF NOT EXISTS f1_presentation.calculated_race_results\n",
    "              (\n",
    "              race_year INT,\n",
    "              team_name STRING,\n",
    "              driver_id INT,\n",
    "              driver_name STRING,\n",
    "              race_id INT,\n",
    "              position INT,\n",
    "              points INT,\n",
    "              calculated_points INT,\n",
    "              created_date TIMESTAMP,\n",
    "              updated_date TIMESTAMP\n",
    "              )\n",
    "              USING DELTA\n",
    "\"\"\")"
   ]
  },
  {
   "cell_type": "code",
   "execution_count": null,
   "id": "aab49867",
   "metadata": {},
   "outputs": [],
   "source": [
    "spark.sql(f\"\"\"\n",
    "              CREATE OR REPLACE TEMP VIEW race_result_updated\n",
    "              AS\n",
    "              SELECT races.race_year,\n",
    "                     constructors.name AS team_name,\n",
    "                     drivers.driver_id,\n",
    "                     drivers.name AS driver_name,\n",
    "                     races.race_id,\n",
    "                     results.position,\n",
    "                     results.points,\n",
    "                     11 - results.position AS calculated_points\n",
    "                FROM f1_processed.results \n",
    "                JOIN f1_processed.drivers ON (results.driver_id = drivers.driver_id)\n",
    "                JOIN f1_processed.constructors ON (results.constructor_id = constructors.constructor_id)\n",
    "                JOIN f1_processed.races ON (results.race_id = races.race_id)\n",
    "               WHERE results.position <= 10\n",
    "                 AND results.file_date = '{v_file_date}'\n",
    "\"\"\")"
   ]
  },
  {
   "cell_type": "code",
   "execution_count": null,
   "id": "0da8e770",
   "metadata": {},
   "outputs": [],
   "source": [
    "spark.sql(f\"\"\"\n",
    "              MERGE INTO f1_presentation.calculated_race_results tgt\n",
    "              USING race_result_updated upd\n",
    "              ON (tgt.driver_id = upd.driver_id AND tgt.race_id = upd.race_id)\n",
    "              WHEN MATCHED THEN\n",
    "                UPDATE SET tgt.position = upd.position,\n",
    "                           tgt.points = upd.points,\n",
    "                           tgt.calculated_points = upd.calculated_points,\n",
    "                           tgt.updated_date = current_timestamp\n",
    "              WHEN NOT MATCHED\n",
    "                THEN INSERT (race_year, team_name, driver_id, driver_name,race_id, position, points, calculated_points, created_date ) \n",
    "                     VALUES (race_year, team_name, driver_id, driver_name,race_id, position, points, calculated_points, current_timestamp)\n",
    "       \"\"\")"
   ]
  },
  {
   "cell_type": "code",
   "execution_count": null,
   "id": "4bfc5bfd",
   "metadata": {},
   "outputs": [],
   "source": [
    "spark.sql(f\"SELECT COUNT(1) FROM race_result_updated\")"
   ]
  }
 ],
 "metadata": {
  "kernelspec": {
   "display_name": "Python 3 (ipykernel)",
   "language": "python",
   "name": "python3"
  },
  "language_info": {
   "codemirror_mode": {
    "name": "ipython",
    "version": 3
   },
   "file_extension": ".py",
   "mimetype": "text/x-python",
   "name": "python",
   "nbconvert_exporter": "python",
   "pygments_lexer": "ipython3",
   "version": "3.8.18"
  }
 },
 "nbformat": 4,
 "nbformat_minor": 5
}
