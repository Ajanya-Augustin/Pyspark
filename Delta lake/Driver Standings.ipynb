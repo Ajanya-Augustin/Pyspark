{
 "cells": [
  {
   "cell_type": "markdown",
   "id": "097653e9",
   "metadata": {},
   "source": [
    "<div style=\"max-width:1400px;margin-center: auto\">\n",
    "<img src=\"images\\driver Standing.png\" width=\"600\"/>\n",
    "</div>"
   ]
  },
  {
   "cell_type": "markdown",
   "id": "26c31ca3",
   "metadata": {},
   "source": [
    "WIN is calculated as sum of times where driver was in 1st position"
   ]
  },
  {
   "cell_type": "code",
   "execution_count": 1,
   "id": "6632d4e7",
   "metadata": {},
   "outputs": [],
   "source": [
    "import findspark\n",
    "findspark.init()\n",
    "import pyspark\n",
    "from pyspark import SparkContext, SparkConf\n",
    "from pyspark.sql import SparkSession\n",
    "spark = SparkSession.builder.master('local') \\\n",
    "    .appName(\"Driver Standings\") \\\n",
    "    .config(\"spark.sql.catalogImplementation\", \"hive\") \\\n",
    "    .getOrCreate()"
   ]
  },
  {
   "cell_type": "code",
   "execution_count": 2,
   "id": "833e9cc1",
   "metadata": {},
   "outputs": [
    {
     "name": "stdout",
     "output_type": "stream",
     "text": [
      "+---------+-----------------+-------------------+----------------+--------------+-------------+------------------+-------+----+-----------+---------+------+--------+\n",
      "|race_year|        race_name|          race_date|circuit_location|   driver_name|driver_number|driver_nationality|   team|grid|fastest_lap|race_time|points|position|\n",
      "+---------+-----------------+-------------------+----------------+--------------+-------------+------------------+-------+----+-----------+---------+------+--------+\n",
      "|     1974|German Grand Prix|1974-08-04 00:00:00|         Nürburg|Clay Regazzoni|         null|             Swiss|Ferrari|   2|       null|1:41:35.0|   9.0|       1|\n",
      "|     1974|German Grand Prix|1974-08-04 00:00:00|         Nürburg|Jody Scheckter|         null|     South African|Tyrrell|   4|       null|    +50.7|   6.0|       2|\n",
      "+---------+-----------------+-------------------+----------------+--------------+-------------+------------------+-------+----+-----------+---------+------+--------+\n",
      "only showing top 2 rows\n",
      "\n"
     ]
    }
   ],
   "source": [
    "race_result = spark.read.parquet(r'E:\\unused\\Udemy\\Spark_practice\\raw\\presentation\\race_result')\n",
    "race_result.show(2)"
   ]
  },
  {
   "cell_type": "code",
   "execution_count": 3,
   "id": "4d8d2301",
   "metadata": {},
   "outputs": [],
   "source": [
    "from pyspark.sql.functions import sum, when, desc ,rank, count\n",
    "from pyspark.sql.window import Window"
   ]
  },
  {
   "cell_type": "code",
   "execution_count": 4,
   "id": "c8d29b97",
   "metadata": {},
   "outputs": [],
   "source": [
    "driver_standing = race_result.\\\n",
    "                    groupBy('driver_nationality', 'driver_name', 'race_year', 'team').\\\n",
    "                    agg(sum('points').alias('Total Points'),\n",
    "                    count(when(race_result.position == 1, True)).alias('wins'))"
   ]
  },
  {
   "cell_type": "code",
   "execution_count": 5,
   "id": "90eb449a",
   "metadata": {},
   "outputs": [
    {
     "name": "stdout",
     "output_type": "stream",
     "text": [
      "+------------------+----------------+---------+------------+------------+----+----+\n",
      "|driver_nationality|     driver_name|race_year|        team|Total Points|wins|rank|\n",
      "+------------------+----------------+---------+------------+------------+----+----+\n",
      "|           British|  Lewis Hamilton|     2020|    Mercedes|       347.0|  11|   1|\n",
      "|           Finnish| Valtteri Bottas|     2020|    Mercedes|       223.0|   2|   2|\n",
      "|             Dutch|  Max Verstappen|     2020|    Red Bull|       214.0|   2|   3|\n",
      "|           Mexican|    Sergio Pérez|     2020|Racing Point|       125.0|   1|   4|\n",
      "|        Australian|Daniel Ricciardo|     2020|     Renault|       119.0|   0|   5|\n",
      "|           Spanish|    Carlos Sainz|     2020|     McLaren|       105.0|   0|   6|\n",
      "|              Thai| Alexander Albon|     2020|    Red Bull|       105.0|   0|   6|\n",
      "|        Monegasque| Charles Leclerc|     2020|     Ferrari|        98.0|   0|   8|\n",
      "|           British|    Lando Norris|     2020|     McLaren|        97.0|   0|   9|\n",
      "|            French|    Pierre Gasly|     2020|  AlphaTauri|        75.0|   1|  10|\n",
      "|          Canadian|    Lance Stroll|     2020|Racing Point|        75.0|   0|  11|\n",
      "+------------------+----------------+---------+------------+------------+----+----+\n",
      "only showing top 11 rows\n",
      "\n"
     ]
    }
   ],
   "source": [
    "driverRankSpec = Window.partitionBy('race_year').orderBy(desc('Total Points'), desc('wins'))\n",
    "Driver_standings = driver_standing.withColumn('rank', rank().over(driverRankSpec))\n",
    "Driver_standings.filter('race_year = 2020').show(11)"
   ]
  },
  {
   "cell_type": "code",
   "execution_count": 6,
   "id": "8cded95b",
   "metadata": {},
   "outputs": [],
   "source": [
    "Driver_standings.write.format('parquet').saveAsTable('f1_presentation.driver_standings')"
   ]
  },
  {
   "cell_type": "code",
   "execution_count": null,
   "id": "21842f64",
   "metadata": {},
   "outputs": [],
   "source": []
  }
 ],
 "metadata": {
  "kernelspec": {
   "display_name": "Python 3 (ipykernel)",
   "language": "python",
   "name": "python3"
  },
  "language_info": {
   "codemirror_mode": {
    "name": "ipython",
    "version": 3
   },
   "file_extension": ".py",
   "mimetype": "text/x-python",
   "name": "python",
   "nbconvert_exporter": "python",
   "pygments_lexer": "ipython3",
   "version": "3.8.18"
  }
 },
 "nbformat": 4,
 "nbformat_minor": 5
}
