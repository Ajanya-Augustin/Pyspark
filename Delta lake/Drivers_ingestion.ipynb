{
 "cells": [
  {
   "cell_type": "code",
   "execution_count": 20,
   "id": "44722287",
   "metadata": {},
   "outputs": [],
   "source": [
    "file_date = '2021-04-18'"
   ]
  },
  {
   "cell_type": "markdown",
   "id": "31dc2dc5",
   "metadata": {},
   "source": [
    "<div style=\"max-width:1400px;margin-center: auto\">\n",
    "<img src=\"images\\drivers.png\" width=\"600\"/>\n",
    "</div>"
   ]
  },
  {
   "cell_type": "code",
   "execution_count": 21,
   "id": "65349d22",
   "metadata": {},
   "outputs": [],
   "source": [
    "import findspark\n",
    "findspark.init()\n",
    "import pyspark\n",
    "from delta import *\n",
    "from pyspark.sql.types import *\n",
    "from pyspark.sql.functions import *\n",
    "\n",
    "#  Create a spark session with Delta\n",
    "builder = pyspark.sql.SparkSession.builder.appName(\"dbcreation\") \\\n",
    "    .config(\"spark.sql.extensions\", \"io.delta.sql.DeltaSparkSessionExtension\") \\\n",
    "    .config(\"spark.sql.catalog.spark_catalog\", \"org.apache.spark.sql.delta.catalog.DeltaCatalog\")\n",
    "\n",
    "# Create spark context\n",
    "spark = configure_spark_with_delta_pip(builder).getOrCreate()"
   ]
  },
  {
   "cell_type": "code",
   "execution_count": 22,
   "id": "17c1cf5c",
   "metadata": {},
   "outputs": [],
   "source": [
    "from pyspark.sql.types import StringType, DateType, IntegerType, StructType, StructField\n",
    "from pyspark.sql.functions import current_timestamp, concat, lit, col"
   ]
  },
  {
   "cell_type": "code",
   "execution_count": 23,
   "id": "b0c8b1ad",
   "metadata": {},
   "outputs": [],
   "source": [
    "name_schema = StructType(fields = [StructField(\"forename\", StringType(), True),\n",
    "                                    StructField(\"surname\", StringType(), True)])"
   ]
  },
  {
   "cell_type": "code",
   "execution_count": 24,
   "id": "2b031078",
   "metadata": {},
   "outputs": [],
   "source": [
    "drivers_schema = StructType(fields = [StructField(\"driverId\", IntegerType(), False),\n",
    "                                      StructField(\"driverRef\", StringType(), False),\n",
    "                                      StructField(\"number\", IntegerType(), False),\n",
    "                                      StructField(\"code\", StringType(), False),\n",
    "                                      StructField(\"name\", name_schema),\n",
    "                                      StructField(\"dob\", DateType(), False),\n",
    "                                      StructField(\"nationality\", StringType(), False),\n",
    "                                      StructField(\"url\", StringType(), False)])"
   ]
  },
  {
   "cell_type": "code",
   "execution_count": 25,
   "id": "2041ddca",
   "metadata": {},
   "outputs": [
    {
     "name": "stdout",
     "output_type": "stream",
     "text": [
      "+--------+---------+------+----+-----------------+----------+-----------+--------------------+\n",
      "|driverId|driverRef|number|code|             name|       dob|nationality|                 url|\n",
      "+--------+---------+------+----+-----------------+----------+-----------+--------------------+\n",
      "|       1| hamilton|    44| HAM|{Lewis, Hamilton}|1985-01-07|    British|http://en.wikiped...|\n",
      "|       2| heidfeld|  null| HEI| {Nick, Heidfeld}|1977-05-10|     German|http://en.wikiped...|\n",
      "+--------+---------+------+----+-----------------+----------+-----------+--------------------+\n",
      "only showing top 2 rows\n",
      "\n"
     ]
    }
   ],
   "source": [
    "drivers_df = spark.read.json(f'raw files\\\\{file_date}\\\\drivers.json',schema=drivers_schema)\n",
    "drivers_df.show(2)"
   ]
  },
  {
   "cell_type": "code",
   "execution_count": 26,
   "id": "7f032a9a",
   "metadata": {},
   "outputs": [],
   "source": [
    "drivers_trans_df = drivers_df.withColumnRenamed(\"driverId\",\"driver_id\").\\\n",
    "                             withColumnRenamed(\"driverRef\",\"driver_ref\").\\\n",
    "                             withColumn(\"Ingestion_date\",current_timestamp()).\\\n",
    "                             withColumn(\"name\",concat(col(\"name.forename\"),lit(\" \"),col(\"name.surname\"))).\\\n",
    "                            withColumn('file_date',lit(file_date))"
   ]
  },
  {
   "cell_type": "code",
   "execution_count": 27,
   "id": "9b894f5a",
   "metadata": {},
   "outputs": [],
   "source": [
    "drivers_fnl_df = drivers_trans_df.drop(\"url\")"
   ]
  },
  {
   "cell_type": "code",
   "execution_count": 28,
   "id": "a7d7870b",
   "metadata": {},
   "outputs": [],
   "source": [
    "drivers_fnl_df.write.mode('overwrite').format('delta').saveAsTable('default.drivers')"
   ]
  }
 ],
 "metadata": {
  "kernelspec": {
   "display_name": "Python 3 (ipykernel)",
   "language": "python",
   "name": "python3"
  },
  "language_info": {
   "codemirror_mode": {
    "name": "ipython",
    "version": 3
   },
   "file_extension": ".py",
   "mimetype": "text/x-python",
   "name": "python",
   "nbconvert_exporter": "python",
   "pygments_lexer": "ipython3",
   "version": "3.8.18"
  }
 },
 "nbformat": 4,
 "nbformat_minor": 5
}
