{
 "cells": [
  {
   "cell_type": "markdown",
   "id": "d536ee60",
   "metadata": {},
   "source": [
    "### FULL LOAD"
   ]
  },
  {
   "cell_type": "code",
   "execution_count": 17,
   "id": "f2c4923f",
   "metadata": {},
   "outputs": [],
   "source": [
    "file_date = '2021-04-18'"
   ]
  },
  {
   "cell_type": "markdown",
   "id": "3cb52008",
   "metadata": {},
   "source": [
    "<div style=\"max-width:1400px;margin-center: auto\">\n",
    "<img src=\"images\\races.png\" width=\"600\"/>\n",
    "</div>"
   ]
  },
  {
   "cell_type": "code",
   "execution_count": 18,
   "id": "31c2d1e3",
   "metadata": {},
   "outputs": [],
   "source": [
    "import findspark\n",
    "findspark.init()\n",
    "import pyspark\n",
    "from delta import *\n",
    "from pyspark.sql.types import *\n",
    "from pyspark.sql.functions import *\n",
    "\n",
    "#  Create a spark session with Delta\n",
    "builder = pyspark.sql.SparkSession.builder.appName(\"races\") \\\n",
    "    .config(\"spark.sql.extensions\", \"io.delta.sql.DeltaSparkSessionExtension\") \\\n",
    "    .config(\"spark.sql.catalog.spark_catalog\", \"org.apache.spark.sql.delta.catalog.DeltaCatalog\")\n",
    "\n",
    "# Create spark context\n",
    "spark = configure_spark_with_delta_pip(builder).getOrCreate()"
   ]
  },
  {
   "cell_type": "code",
   "execution_count": 19,
   "id": "99f3e667",
   "metadata": {},
   "outputs": [
    {
     "data": {
      "text/plain": [
       "[Database(name='default', description='default database', locationUri='file:/E:/unused/Udemy/Spark_practice/raw/Delta%20lake/spark-warehouse')]"
      ]
     },
     "execution_count": 19,
     "metadata": {},
     "output_type": "execute_result"
    }
   ],
   "source": [
    "spark.catalog.listDatabases()"
   ]
  },
  {
   "cell_type": "code",
   "execution_count": 20,
   "id": "b3b20855",
   "metadata": {},
   "outputs": [],
   "source": [
    "from pyspark.sql.types import StructType, StructField,IntegerType, StringType, DoubleType,DateType\n",
    "from pyspark.sql.functions import current_timestamp, lit, to_timestamp, concat, col"
   ]
  },
  {
   "cell_type": "code",
   "execution_count": 21,
   "id": "7694d6f3",
   "metadata": {},
   "outputs": [],
   "source": [
    "race_schema = StructType( fields = [StructField(\"raceId\", IntegerType(), False),\n",
    "                                    StructField(\"year\", IntegerType(), True),\n",
    "                                    StructField(\"round\", IntegerType(), True),\n",
    "                                    StructField(\"circuitId\", IntegerType(), True),\n",
    "                                    StructField(\"name\", StringType(), True),\n",
    "                                    StructField(\"date\", DateType(), True),\n",
    "                                    StructField(\"time\", StringType(), True),\n",
    "                                    StructField(\"url\", StringType(), True)])"
   ]
  },
  {
   "cell_type": "code",
   "execution_count": 22,
   "id": "bd3dbf13",
   "metadata": {},
   "outputs": [
    {
     "name": "stdout",
     "output_type": "stream",
     "text": [
      "+------+----+-----+---------+--------------------+----------+--------+--------------------+\n",
      "|raceId|year|round|circuitId|                name|      date|    time|                 url|\n",
      "+------+----+-----+---------+--------------------+----------+--------+--------------------+\n",
      "|     1|2009|    1|        1|Australian Grand ...|2009-03-29|06:00:00|http://en.wikiped...|\n",
      "|     2|2009|    2|        2|Malaysian Grand Prix|2009-04-05|09:00:00|http://en.wikiped...|\n",
      "+------+----+-----+---------+--------------------+----------+--------+--------------------+\n",
      "only showing top 2 rows\n",
      "\n"
     ]
    }
   ],
   "source": [
    "race_df = spark.read.csv(f'raw files\\\\{file_date}\\\\races.csv',header=True,schema=race_schema)\n",
    "race_df.show(2)"
   ]
  },
  {
   "cell_type": "code",
   "execution_count": 23,
   "id": "3646cc95",
   "metadata": {},
   "outputs": [
    {
     "name": "stdout",
     "output_type": "stream",
     "text": [
      "root\n",
      " |-- raceId: integer (nullable = true)\n",
      " |-- year: integer (nullable = true)\n",
      " |-- round: integer (nullable = true)\n",
      " |-- circuitId: integer (nullable = true)\n",
      " |-- name: string (nullable = true)\n",
      " |-- date: date (nullable = true)\n",
      " |-- time: string (nullable = true)\n",
      " |-- url: string (nullable = true)\n",
      "\n"
     ]
    }
   ],
   "source": [
    "race_df.printSchema()"
   ]
  },
  {
   "cell_type": "code",
   "execution_count": 24,
   "id": "fec5d91b",
   "metadata": {},
   "outputs": [
    {
     "name": "stdout",
     "output_type": "stream",
     "text": [
      "+-------+------------------+-----------------+------------------+------------------+--------------------+--------+--------------------+\n",
      "|summary|            raceId|             year|             round|         circuitId|                name|    time|                 url|\n",
      "+-------+------------------+-----------------+------------------+------------------+--------------------+--------+--------------------+\n",
      "|  count|              1058|             1058|              1058|              1058|                1058|    1058|                1058|\n",
      "|   mean| 531.2315689981097|1990.780718336484| 8.382797731568997| 22.20132325141777|                null|    null|                null|\n",
      "| stddev|308.16570918807656|19.73008802240494|5.0002806845260235|17.287816736617504|                null|    null|                null|\n",
      "|    min|                 1|             1950|                 1|                 1|70th Anniversary ...|03:00:00|http://en.wikiped...|\n",
      "|    max|              1073|             2021|                23|                77|United States Gra...|      \\N|https://en.wikipe...|\n",
      "+-------+------------------+-----------------+------------------+------------------+--------------------+--------+--------------------+\n",
      "\n"
     ]
    }
   ],
   "source": [
    "race_df.describe().show()"
   ]
  },
  {
   "cell_type": "code",
   "execution_count": 25,
   "id": "f4e0a3d6",
   "metadata": {},
   "outputs": [
    {
     "name": "stdout",
     "output_type": "stream",
     "text": [
      "+------+----+-----+---------+--------------------+----------+--------+--------------------+--------------------+-------------------+----------+\n",
      "|raceId|year|round|circuitId|                name|      date|    time|                 url|      ingestion_date|     race_timestamp| file_date|\n",
      "+------+----+-----+---------+--------------------+----------+--------+--------------------+--------------------+-------------------+----------+\n",
      "|     1|2009|    1|        1|Australian Grand ...|2009-03-29|06:00:00|http://en.wikiped...|2024-02-11 13:45:...|2009-03-29 06:00:00|2021-04-18|\n",
      "|     2|2009|    2|        2|Malaysian Grand Prix|2009-04-05|09:00:00|http://en.wikiped...|2024-02-11 13:45:...|2009-04-05 09:00:00|2021-04-18|\n",
      "+------+----+-----+---------+--------------------+----------+--------+--------------------+--------------------+-------------------+----------+\n",
      "only showing top 2 rows\n",
      "\n"
     ]
    }
   ],
   "source": [
    "race_transformed_df = race_df.withColumn(\"ingestion_date\",current_timestamp())\\\n",
    "                        .withColumn(\"race_timestamp\",to_timestamp(concat(col(\"date\"),lit(\" \"),col('time')),'yyyy-MM-dd HH:mm:ss'))\\\n",
    "                        .withColumn('file_date',lit(file_date))\n",
    "race_transformed_df.show(2)"
   ]
  },
  {
   "cell_type": "code",
   "execution_count": 26,
   "id": "518aacdf",
   "metadata": {},
   "outputs": [
    {
     "name": "stdout",
     "output_type": "stream",
     "text": [
      "+-------+---------+-----+----------+--------------------+-------------------+--------------------+\n",
      "|race_id|race_year|round|circuit_id|                name|     race_timestamp|      ingestion_date|\n",
      "+-------+---------+-----+----------+--------------------+-------------------+--------------------+\n",
      "|      1|     2009|    1|         1|Australian Grand ...|2009-03-29 06:00:00|2024-02-11 13:45:...|\n",
      "|      2|     2009|    2|         2|Malaysian Grand Prix|2009-04-05 09:00:00|2024-02-11 13:45:...|\n",
      "+-------+---------+-----+----------+--------------------+-------------------+--------------------+\n",
      "only showing top 2 rows\n",
      "\n"
     ]
    }
   ],
   "source": [
    "race_final_df = race_transformed_df.select(\n",
    "    col(\"raceId\").alias(\"race_id\"),\n",
    "    col(\"year\").alias(\"race_year\"),\n",
    "    col(\"round\"),\n",
    "    col(\"circuitId\").alias(\"circuit_id\"),\n",
    "    col(\"name\"),\n",
    "    col(\"race_timestamp\"),\n",
    "    col(\"ingestion_date\"))\n",
    "race_final_df.show(2)"
   ]
  },
  {
   "cell_type": "code",
   "execution_count": 27,
   "id": "af68ae0c",
   "metadata": {},
   "outputs": [],
   "source": [
    "race_final_df.write.mode('overwrite').format('delta').saveAsTable('default.races')"
   ]
  },
  {
   "cell_type": "code",
   "execution_count": 29,
   "id": "44e5f3f4",
   "metadata": {},
   "outputs": [
    {
     "name": "stdout",
     "output_type": "stream",
     "text": [
      "+--------+\n",
      "|count(1)|\n",
      "+--------+\n",
      "|    1058|\n",
      "+--------+\n",
      "\n"
     ]
    }
   ],
   "source": [
    "spark.sql('SELECT count(*) FROM default.races').show()"
   ]
  }
 ],
 "metadata": {
  "kernelspec": {
   "display_name": "Python 3 (ipykernel)",
   "language": "python",
   "name": "python3"
  },
  "language_info": {
   "codemirror_mode": {
    "name": "ipython",
    "version": 3
   },
   "file_extension": ".py",
   "mimetype": "text/x-python",
   "name": "python",
   "nbconvert_exporter": "python",
   "pygments_lexer": "ipython3",
   "version": "3.8.18"
  }
 },
 "nbformat": 4,
 "nbformat_minor": 5
}
