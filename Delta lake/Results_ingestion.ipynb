{
 "cells": [
  {
   "cell_type": "markdown",
   "id": "3ee32ee5",
   "metadata": {},
   "source": [
    "## INCREMENTAL LOAD"
   ]
  },
  {
   "cell_type": "code",
   "execution_count": 1,
   "id": "66457a65",
   "metadata": {},
   "outputs": [],
   "source": [
    "file_date = '2021-04-18'"
   ]
  },
  {
   "cell_type": "markdown",
   "id": "5d3bd21f",
   "metadata": {},
   "source": [
    "<div style=\"max-width:1400px;margin-center: auto\">\n",
    "<img src=\"images\\results.png\" width=\"600\"/>\n",
    "</div>"
   ]
  },
  {
   "cell_type": "code",
   "execution_count": 2,
   "id": "987c4c7c",
   "metadata": {},
   "outputs": [],
   "source": [
    "import findspark\n",
    "findspark.init()\n",
    "import pyspark\n",
    "from delta import *\n",
    "from pyspark.sql.types import *\n",
    "from pyspark.sql.functions import *\n",
    "\n",
    "#  Create a spark session with Delta\n",
    "builder = pyspark.sql.SparkSession.builder.appName(\"dbcreation\") \\\n",
    "    .config(\"spark.sql.extensions\", \"io.delta.sql.DeltaSparkSessionExtension\") \\\n",
    "    .config(\"spark.sql.catalog.spark_catalog\", \"org.apache.spark.sql.delta.catalog.DeltaCatalog\")\n",
    "\n",
    "# Create spark context\n",
    "spark = configure_spark_with_delta_pip(builder).getOrCreate()"
   ]
  },
  {
   "cell_type": "code",
   "execution_count": 3,
   "id": "fd0eee4a",
   "metadata": {},
   "outputs": [],
   "source": [
    "from pyspark.sql.types import IntegerType, FloatType, StringType, StructField, StructType\n",
    "from pyspark.sql.functions import col, current_timestamp,count,max,lit,desc"
   ]
  },
  {
   "cell_type": "code",
   "execution_count": 4,
   "id": "d6c25be5",
   "metadata": {},
   "outputs": [],
   "source": [
    "results_schema = StructType(fields=[StructField(\"resultId\", IntegerType(), False),\n",
    "                                    StructField(\"raceId\", IntegerType(), True),\n",
    "                                    StructField(\"driverId\", IntegerType(), True),\n",
    "                                    StructField(\"constructorId\", IntegerType(), True),\n",
    "                                    StructField(\"number\", IntegerType(), True),\n",
    "                                    StructField(\"grid\", IntegerType(), True),\n",
    "                                    StructField(\"position\", IntegerType(), True),\n",
    "                                    StructField(\"positionText\", StringType(), True),\n",
    "                                    StructField(\"positionOrder\", IntegerType(), True),\n",
    "                                    StructField(\"points\", FloatType(), True),\n",
    "                                    StructField(\"laps\", IntegerType(), True),\n",
    "                                    StructField(\"time\", StringType(), True),\n",
    "                                    StructField(\"milliseconds\", IntegerType(), True),\n",
    "                                    StructField(\"fastestLap\", IntegerType(), True),\n",
    "                                    StructField(\"rank\", IntegerType(), True),\n",
    "                                    StructField(\"fastestLapTime\", StringType(), True),\n",
    "                                    StructField(\"fastestLapSpeed\", FloatType(), True),\n",
    "                                    StructField(\"statusId\", StringType(), True)])"
   ]
  },
  {
   "cell_type": "code",
   "execution_count": 5,
   "id": "0045e84c",
   "metadata": {},
   "outputs": [
    {
     "name": "stdout",
     "output_type": "stream",
     "text": [
      "+--------+------+--------+-------------+------+----+--------+------------+-------------+------+----+-----------+------------+----------+----+--------------+---------------+--------+\n",
      "|resultId|raceId|driverId|constructorId|number|grid|position|positionText|positionOrder|points|laps|       time|milliseconds|fastestLap|rank|fastestLapTime|fastestLapSpeed|statusId|\n",
      "+--------+------+--------+-------------+------+----+--------+------------+-------------+------+----+-----------+------------+----------+----+--------------+---------------+--------+\n",
      "|   24986|  1053|     830|            9|    33|   3|       1|           1|            1|  25.0|  63|2:02:34.598|     7354598|        60|   2|      1:17.524|         227.96|       1|\n",
      "|   24987|  1053|       1|          131|    44|   1|       2|           2|            2|  19.0|  63|    +22.000|     7376598|        60|   1|      1:16.702|        230.403|       1|\n",
      "+--------+------+--------+-------------+------+----+--------+------------+-------------+------+----+-----------+------------+----------+----+--------------+---------------+--------+\n",
      "only showing top 2 rows\n",
      "\n"
     ]
    }
   ],
   "source": [
    "results_df = spark.read.json(f'raw files\\\\{file_date}\\\\results.json', schema = results_schema)\n",
    "results_df.show(2)"
   ]
  },
  {
   "cell_type": "code",
   "execution_count": 6,
   "id": "526864c3",
   "metadata": {},
   "outputs": [
    {
     "name": "stdout",
     "output_type": "stream",
     "text": [
      "cut_over count of distinct_race_id :  1035\n",
      "df_file1 count of distinct_race_id  :  1\n",
      "cut_over_count for each raceId : \n",
      "+------+--------+\n",
      "|raceId|count(1)|\n",
      "+------+--------+\n",
      "|   148|      22|\n",
      "|   463|      29|\n",
      "|   471|      32|\n",
      "+------+--------+\n",
      "only showing top 3 rows\n",
      "\n",
      "df_file1_count for each raceId : \n",
      "+------+--------+\n",
      "|raceId|count(1)|\n",
      "+------+--------+\n",
      "|  1052|      20|\n",
      "+------+--------+\n",
      "\n",
      "cut_over_max of raceId : \n",
      "+-----------+\n",
      "|max(raceId)|\n",
      "+-----------+\n",
      "|       1047|\n",
      "+-----------+\n",
      "\n"
     ]
    }
   ],
   "source": [
    "cut_over_df = spark.read.json(f'raw files\\\\2021-03-21\\\\results.json', schema = results_schema)\n",
    "df_file1 = spark.read.json(f'raw files\\\\2021-03-28\\\\results.json', schema = results_schema)\n",
    "print('cut_over count of distinct_race_id : ',cut_over_df.select('raceId').distinct().count())\n",
    "print('df_file1 count of distinct_race_id  : ',df_file1.select('raceId').distinct().count())\n",
    "print('cut_over_count for each raceId : ')\n",
    "cut_over_df.groupBy('raceId').agg(count('*')).show(3)\n",
    "print('df_file1_count for each raceId : ')\n",
    "df_file1.groupBy('raceId').agg(count('*')).show()\n",
    "print('cut_over_max of raceId : ')\n",
    "cut_over_df.agg(max('raceId')).show()"
   ]
  },
  {
   "cell_type": "code",
   "execution_count": 7,
   "id": "26962fa4",
   "metadata": {},
   "outputs": [
    {
     "name": "stdout",
     "output_type": "stream",
     "text": [
      "+---------+-------+---------+--------------+------+----+--------+-------------+--------------+------+----+-----------+------------+-----------+----+----------------+-----------------+--------+--------------------+----------+\n",
      "|result_id|race_id|driver_id|constructor_id|number|grid|position|position_text|position_order|points|laps|       time|milliseconds|fastest_lap|rank|fastest_lap_time|fastest_lap_speed|statusId|      ingestion_date| file_date|\n",
      "+---------+-------+---------+--------------+------+----+--------+-------------+--------------+------+----+-----------+------------+-----------+----+----------------+-----------------+--------+--------------------+----------+\n",
      "|    24986|   1053|      830|             9|    33|   3|       1|            1|             1|  25.0|  63|2:02:34.598|     7354598|         60|   2|        1:17.524|           227.96|       1|2024-02-11 15:21:...|2021-04-18|\n",
      "|    24987|   1053|        1|           131|    44|   1|       2|            2|             2|  19.0|  63|    +22.000|     7376598|         60|   1|        1:16.702|          230.403|       1|2024-02-11 15:21:...|2021-04-18|\n",
      "+---------+-------+---------+--------------+------+----+--------+-------------+--------------+------+----+-----------+------------+-----------+----+----------------+-----------------+--------+--------------------+----------+\n",
      "only showing top 2 rows\n",
      "\n"
     ]
    }
   ],
   "source": [
    "results_with_columns_df = results_df.withColumnRenamed(\"resultId\", \"result_id\") \\\n",
    "                                    .withColumnRenamed(\"raceId\", \"race_id\") \\\n",
    "                                    .withColumnRenamed(\"driverId\", \"driver_id\") \\\n",
    "                                    .withColumnRenamed(\"constructorId\", \"constructor_id\") \\\n",
    "                                    .withColumnRenamed(\"positionText\", \"position_text\") \\\n",
    "                                    .withColumnRenamed(\"positionOrder\", \"position_order\") \\\n",
    "                                    .withColumnRenamed(\"fastestLap\", \"fastest_lap\") \\\n",
    "                                    .withColumnRenamed(\"fastestLapTime\", \"fastest_lap_time\") \\\n",
    "                                    .withColumnRenamed(\"fastestLapSpeed\", \"fastest_lap_speed\") \\\n",
    "                                    .withColumn(\"ingestion_date\", current_timestamp())\\\n",
    "                                    .withColumn(\"file_date\",lit(file_date))\n",
    "results_with_columns_df.show(2)"
   ]
  },
  {
   "cell_type": "code",
   "execution_count": 8,
   "id": "9ebc1524",
   "metadata": {},
   "outputs": [
    {
     "name": "stdout",
     "output_type": "stream",
     "text": [
      "+---------+-------+---------+--------------+------+----+--------+-------------+--------------+------+----+-----------+------------+-----------+----+----------------+-----------------+--------------------+----------+\n",
      "|result_id|race_id|driver_id|constructor_id|number|grid|position|position_text|position_order|points|laps|       time|milliseconds|fastest_lap|rank|fastest_lap_time|fastest_lap_speed|      ingestion_date| file_date|\n",
      "+---------+-------+---------+--------------+------+----+--------+-------------+--------------+------+----+-----------+------------+-----------+----+----------------+-----------------+--------------------+----------+\n",
      "|    24986|   1053|      830|             9|    33|   3|       1|            1|             1|  25.0|  63|2:02:34.598|     7354598|         60|   2|        1:17.524|           227.96|2024-02-11 15:21:...|2021-04-18|\n",
      "|    24987|   1053|        1|           131|    44|   1|       2|            2|             2|  19.0|  63|    +22.000|     7376598|         60|   1|        1:16.702|          230.403|2024-02-11 15:21:...|2021-04-18|\n",
      "+---------+-------+---------+--------------+------+----+--------+-------------+--------------+------+----+-----------+------------+-----------+----+----------------+-----------------+--------------------+----------+\n",
      "only showing top 2 rows\n",
      "\n"
     ]
    }
   ],
   "source": [
    "results_final_df = results_with_columns_df.drop(col(\"statusId\"))\n",
    "results_final_df.show(2)"
   ]
  },
  {
   "cell_type": "code",
   "execution_count": 9,
   "id": "f561f692",
   "metadata": {},
   "outputs": [],
   "source": [
    "%run \"common_functions.ipynb\""
   ]
  },
  {
   "cell_type": "code",
   "execution_count": null,
   "id": "be2adb4f",
   "metadata": {},
   "outputs": [],
   "source": [
    "results_deduped_df = results_final_df.dropDuplicates(['race_id', 'driver_id'])"
   ]
  },
  {
   "cell_type": "code",
   "execution_count": 10,
   "id": "e55a4f23",
   "metadata": {},
   "outputs": [],
   "source": [
    "merge_condition = \"tgt.result_id = src.result_id AND tgt.race_id = src.race_id\"\n",
    "merge_delta_data(results_deduped_df, 'default', 'results', 'E:/unused/Udemy/Spark_practice/raw/Delta%20lake/spark-warehouse',merge_condition,'race_id')"
   ]
  },
  {
   "cell_type": "code",
   "execution_count": 11,
   "id": "b0278a49",
   "metadata": {},
   "outputs": [
    {
     "name": "stdout",
     "output_type": "stream",
     "text": [
      "df_file1_count for each raceId : \n",
      "+-------+--------+\n",
      "|race_id|count(1)|\n",
      "+-------+--------+\n",
      "|   1053|      20|\n",
      "+-------+--------+\n",
      "\n"
     ]
    }
   ],
   "source": [
    "df = spark.sql('SELECT * FROM default.results')\n",
    "print('df_file1_count for each raceId : ')\n",
    "df.groupBy('race_id').agg(count('*')).orderBy(desc('race_id')).show()"
   ]
  }
 ],
 "metadata": {
  "kernelspec": {
   "display_name": "Python 3 (ipykernel)",
   "language": "python",
   "name": "python3"
  },
  "language_info": {
   "codemirror_mode": {
    "name": "ipython",
    "version": 3
   },
   "file_extension": ".py",
   "mimetype": "text/x-python",
   "name": "python",
   "nbconvert_exporter": "python",
   "pygments_lexer": "ipython3",
   "version": "3.8.18"
  }
 },
 "nbformat": 4,
 "nbformat_minor": 5
}
