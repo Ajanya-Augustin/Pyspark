{
 "cells": [
  {
   "cell_type": "markdown",
   "id": "31dc2dc5",
   "metadata": {},
   "source": [
    "<div style=\"max-width:1400px;margin-center: auto\">\n",
    "<img src=\"images\\drivers.png\" width=\"600\"/>\n",
    "</div>"
   ]
  },
  {
   "cell_type": "code",
   "execution_count": 1,
   "id": "65349d22",
   "metadata": {},
   "outputs": [],
   "source": [
    "import findspark\n",
    "findspark.init()\n",
    "import pyspark\n",
    "from pyspark import SparkContext, SparkConf\n",
    "from pyspark.sql import SparkSession\n",
    "spark = SparkSession.builder.master('local') \\\n",
    "    .appName(\"driver\") \\\n",
    "    .config(\"spark.sql.catalogImplementation\", \"hive\") \\\n",
    "    .getOrCreate()"
   ]
  },
  {
   "cell_type": "code",
   "execution_count": 2,
   "id": "17c1cf5c",
   "metadata": {},
   "outputs": [],
   "source": [
    "from pyspark.sql.types import StringType, DateType, IntegerType, StructType, StructField\n",
    "from pyspark.sql.functions import current_timestamp, concat, lit, col"
   ]
  },
  {
   "cell_type": "code",
   "execution_count": 3,
   "id": "b0c8b1ad",
   "metadata": {},
   "outputs": [],
   "source": [
    "name_schema = StructType(fields = [StructField(\"forename\", StringType(), True),\n",
    "                                    StructField(\"surname\", StringType(), True)])"
   ]
  },
  {
   "cell_type": "code",
   "execution_count": 4,
   "id": "2b031078",
   "metadata": {},
   "outputs": [],
   "source": [
    "drivers_schema = StructType(fields = [StructField(\"driverId\", IntegerType(), False),\n",
    "                                      StructField(\"driverRef\", StringType(), False),\n",
    "                                      StructField(\"number\", IntegerType(), False),\n",
    "                                      StructField(\"code\", StringType(), False),\n",
    "                                      StructField(\"name\", name_schema),\n",
    "                                      StructField(\"dob\", DateType(), False),\n",
    "                                      StructField(\"nationality\", StringType(), False),\n",
    "                                      StructField(\"url\", StringType(), False)])"
   ]
  },
  {
   "cell_type": "code",
   "execution_count": 5,
   "id": "2041ddca",
   "metadata": {},
   "outputs": [
    {
     "name": "stdout",
     "output_type": "stream",
     "text": [
      "+--------+---------+------+----+-----------------+----------+-----------+--------------------+\n",
      "|driverId|driverRef|number|code|             name|       dob|nationality|                 url|\n",
      "+--------+---------+------+----+-----------------+----------+-----------+--------------------+\n",
      "|       1| hamilton|    44| HAM|{Lewis, Hamilton}|1985-01-07|    British|http://en.wikiped...|\n",
      "|       2| heidfeld|  null| HEI| {Nick, Heidfeld}|1977-05-10|     German|http://en.wikiped...|\n",
      "+--------+---------+------+----+-----------------+----------+-----------+--------------------+\n",
      "only showing top 2 rows\n",
      "\n"
     ]
    }
   ],
   "source": [
    "drivers_df = spark.read.json(r\"E:\\unused\\Udemy\\Spark_practice\\raw\\raw_files\\drivers.json\",schema=drivers_schema)\n",
    "drivers_df.show(2)"
   ]
  },
  {
   "cell_type": "code",
   "execution_count": 6,
   "id": "7f032a9a",
   "metadata": {},
   "outputs": [],
   "source": [
    "drivers_trans_df = drivers_df.withColumnRenamed(\"driverId\",\"driver_id\").\\\n",
    "                             withColumnRenamed(\"driverRef\",\"driver_ref\").\\\n",
    "                             withColumn(\"Ingestion_date\",current_timestamp()).\\\n",
    "                             withColumn(\"name\",concat(col(\"name.forename\"),lit(\" \"),col(\"name.surname\")))"
   ]
  },
  {
   "cell_type": "code",
   "execution_count": 7,
   "id": "9b894f5a",
   "metadata": {},
   "outputs": [],
   "source": [
    "drivers_fnl_df = drivers_trans_df.drop(\"url\")"
   ]
  },
  {
   "cell_type": "code",
   "execution_count": 8,
   "id": "a7d7870b",
   "metadata": {},
   "outputs": [],
   "source": [
    "drivers_fnl_df.write.mode(\"overwrite\").parquet(\"processed/drivers\")"
   ]
  },
  {
   "cell_type": "code",
   "execution_count": 9,
   "id": "b4296acd",
   "metadata": {},
   "outputs": [
    {
     "name": "stdout",
     "output_type": "stream",
     "text": [
      "+----------------------------+--------------------------------------------------------------------+-------+\n",
      "|col_name                    |data_type                                                           |comment|\n",
      "+----------------------------+--------------------------------------------------------------------+-------+\n",
      "|driver_id                   |int                                                                 |null   |\n",
      "|driver_ref                  |string                                                              |null   |\n",
      "|number                      |int                                                                 |null   |\n",
      "|code                        |string                                                              |null   |\n",
      "|name                        |string                                                              |null   |\n",
      "|dob                         |date                                                                |null   |\n",
      "|nationality                 |string                                                              |null   |\n",
      "|Ingestion_date              |timestamp                                                           |null   |\n",
      "|                            |                                                                    |       |\n",
      "|# Detailed Table Information|                                                                    |       |\n",
      "|Database                    |f1_processed                                                        |       |\n",
      "|Table                       |drivers                                                             |       |\n",
      "|Owner                       |user                                                                |       |\n",
      "|Created Time                |Wed Jan 17 12:08:58 IST 2024                                        |       |\n",
      "|Last Access                 |UNKNOWN                                                             |       |\n",
      "|Created By                  |Spark 3.3.4                                                         |       |\n",
      "|Type                        |MANAGED                                                             |       |\n",
      "|Provider                    |parquet                                                             |       |\n",
      "|Statistics                  |29058 bytes                                                         |       |\n",
      "|Location                    |file:/E:/unused/Udemy/Spark_practice/raw/SQL/spark_processed/drivers|       |\n",
      "+----------------------------+--------------------------------------------------------------------+-------+\n",
      "only showing top 20 rows\n",
      "\n"
     ]
    }
   ],
   "source": [
    "df = spark.read(r'processed/drivers')"
   ]
  },
  {
   "cell_type": "code",
   "execution_count": null,
   "id": "569a59b9",
   "metadata": {},
   "outputs": [],
   "source": []
  }
 ],
 "metadata": {
  "kernelspec": {
   "display_name": "Python 3 (ipykernel)",
   "language": "python",
   "name": "python3"
  },
  "language_info": {
   "codemirror_mode": {
    "name": "ipython",
    "version": 3
   },
   "file_extension": ".py",
   "mimetype": "text/x-python",
   "name": "python",
   "nbconvert_exporter": "python",
   "pygments_lexer": "ipython3",
   "version": "3.8.18"
  }
 },
 "nbformat": 4,
 "nbformat_minor": 5
}
