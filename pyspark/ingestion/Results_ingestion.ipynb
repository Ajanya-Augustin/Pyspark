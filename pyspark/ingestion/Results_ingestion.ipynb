{
 "cells": [
  {
   "cell_type": "markdown",
   "id": "5d3bd21f",
   "metadata": {},
   "source": [
    "<div style=\"max-width:1400px;margin-center: auto\">\n",
    "<img src=\"images\\results.png\" width=\"600\"/>\n",
    "</div>"
   ]
  },
  {
   "cell_type": "code",
   "execution_count": 1,
   "id": "987c4c7c",
   "metadata": {},
   "outputs": [],
   "source": [
    "import findspark\n",
    "findspark.init()\n",
    "import pyspark\n",
    "from pyspark import SparkContext, SparkConf\n",
    "from pyspark.sql import SparkSession\n",
    "spark = SparkSession.builder.master('local') \\\n",
    "    .appName(\"result\") \\\n",
    "    .config(\"spark.sql.catalogImplementation\", \"hive\") \\\n",
    "    .getOrCreate()"
   ]
  },
  {
   "cell_type": "code",
   "execution_count": 2,
   "id": "fd0eee4a",
   "metadata": {},
   "outputs": [],
   "source": [
    "from pyspark.sql.types import IntegerType, FloatType, StringType, StructField, StructType\n",
    "from pyspark.sql.functions import col, current_timestamp"
   ]
  },
  {
   "cell_type": "code",
   "execution_count": 3,
   "id": "d6c25be5",
   "metadata": {},
   "outputs": [],
   "source": [
    "results_schema = StructType(fields=[StructField(\"resultId\", IntegerType(), False),\n",
    "                                    StructField(\"raceId\", IntegerType(), True),\n",
    "                                    StructField(\"driverId\", IntegerType(), True),\n",
    "                                    StructField(\"constructorId\", IntegerType(), True),\n",
    "                                    StructField(\"number\", IntegerType(), True),\n",
    "                                    StructField(\"grid\", IntegerType(), True),\n",
    "                                    StructField(\"position\", IntegerType(), True),\n",
    "                                    StructField(\"positionText\", StringType(), True),\n",
    "                                    StructField(\"positionOrder\", IntegerType(), True),\n",
    "                                    StructField(\"points\", FloatType(), True),\n",
    "                                    StructField(\"laps\", IntegerType(), True),\n",
    "                                    StructField(\"time\", StringType(), True),\n",
    "                                    StructField(\"milliseconds\", IntegerType(), True),\n",
    "                                    StructField(\"fastestLap\", IntegerType(), True),\n",
    "                                    StructField(\"rank\", IntegerType(), True),\n",
    "                                    StructField(\"fastestLapTime\", StringType(), True),\n",
    "                                    StructField(\"fastestLapSpeed\", FloatType(), True),\n",
    "                                    StructField(\"statusId\", StringType(), True)])"
   ]
  },
  {
   "cell_type": "code",
   "execution_count": 4,
   "id": "0045e84c",
   "metadata": {},
   "outputs": [
    {
     "name": "stdout",
     "output_type": "stream",
     "text": [
      "+--------+------+--------+-------------+------+----+--------+------------+-------------+------+----+-----------+------------+----------+----+--------------+---------------+--------+\n",
      "|resultId|raceId|driverId|constructorId|number|grid|position|positionText|positionOrder|points|laps|       time|milliseconds|fastestLap|rank|fastestLapTime|fastestLapSpeed|statusId|\n",
      "+--------+------+--------+-------------+------+----+--------+------------+-------------+------+----+-----------+------------+----------+----+--------------+---------------+--------+\n",
      "|       1|    18|       1|            1|    22|   1|       1|           1|            1|  10.0|  58|1:34:50.616|     5690616|        39|   2|      1:27.452|          218.3|       1|\n",
      "|       2|    18|       2|            2|     3|   5|       2|           2|            2|   8.0|  58|     +5.478|     5696094|        41|   3|      1:27.739|        217.586|       1|\n",
      "+--------+------+--------+-------------+------+----+--------+------------+-------------+------+----+-----------+------------+----------+----+--------------+---------------+--------+\n",
      "only showing top 2 rows\n",
      "\n"
     ]
    }
   ],
   "source": [
    "results_df = spark.read.json(r\"E:\\unused\\Udemy\\Spark_practice\\raw\\raw_files\\results.json\", schema = results_schema)\n",
    "results_df.show(2)"
   ]
  },
  {
   "cell_type": "code",
   "execution_count": 5,
   "id": "26962fa4",
   "metadata": {},
   "outputs": [
    {
     "name": "stdout",
     "output_type": "stream",
     "text": [
      "+---------+-------+---------+--------------+------+----+--------+-------------+--------------+------+----+-----------+------------+-----------+----+----------------+-----------------+--------+--------------------+\n",
      "|result_id|race_id|driver_id|constructor_id|number|grid|position|position_text|position_order|points|laps|       time|milliseconds|fastest_lap|rank|fastest_lap_time|fastest_lap_speed|statusId|      ingestion_date|\n",
      "+---------+-------+---------+--------------+------+----+--------+-------------+--------------+------+----+-----------+------------+-----------+----+----------------+-----------------+--------+--------------------+\n",
      "|        1|     18|        1|             1|    22|   1|       1|            1|             1|  10.0|  58|1:34:50.616|     5690616|         39|   2|        1:27.452|            218.3|       1|2024-01-17 12:07:...|\n",
      "|        2|     18|        2|             2|     3|   5|       2|            2|             2|   8.0|  58|     +5.478|     5696094|         41|   3|        1:27.739|          217.586|       1|2024-01-17 12:07:...|\n",
      "+---------+-------+---------+--------------+------+----+--------+-------------+--------------+------+----+-----------+------------+-----------+----+----------------+-----------------+--------+--------------------+\n",
      "only showing top 2 rows\n",
      "\n"
     ]
    }
   ],
   "source": [
    "results_with_columns_df = results_df.withColumnRenamed(\"resultId\", \"result_id\") \\\n",
    "                                    .withColumnRenamed(\"raceId\", \"race_id\") \\\n",
    "                                    .withColumnRenamed(\"driverId\", \"driver_id\") \\\n",
    "                                    .withColumnRenamed(\"constructorId\", \"constructor_id\") \\\n",
    "                                    .withColumnRenamed(\"positionText\", \"position_text\") \\\n",
    "                                    .withColumnRenamed(\"positionOrder\", \"position_order\") \\\n",
    "                                    .withColumnRenamed(\"fastestLap\", \"fastest_lap\") \\\n",
    "                                    .withColumnRenamed(\"fastestLapTime\", \"fastest_lap_time\") \\\n",
    "                                    .withColumnRenamed(\"fastestLapSpeed\", \"fastest_lap_speed\") \\\n",
    "                                    .withColumn(\"ingestion_date\", current_timestamp())\n",
    "results_with_columns_df.show(2)"
   ]
  },
  {
   "cell_type": "code",
   "execution_count": 6,
   "id": "9ebc1524",
   "metadata": {},
   "outputs": [
    {
     "name": "stdout",
     "output_type": "stream",
     "text": [
      "+---------+-------+---------+--------------+------+----+--------+-------------+--------------+------+----+-----------+------------+-----------+----+----------------+-----------------+--------------------+\n",
      "|result_id|race_id|driver_id|constructor_id|number|grid|position|position_text|position_order|points|laps|       time|milliseconds|fastest_lap|rank|fastest_lap_time|fastest_lap_speed|      ingestion_date|\n",
      "+---------+-------+---------+--------------+------+----+--------+-------------+--------------+------+----+-----------+------------+-----------+----+----------------+-----------------+--------------------+\n",
      "|        1|     18|        1|             1|    22|   1|       1|            1|             1|  10.0|  58|1:34:50.616|     5690616|         39|   2|        1:27.452|            218.3|2024-01-17 12:07:...|\n",
      "|        2|     18|        2|             2|     3|   5|       2|            2|             2|   8.0|  58|     +5.478|     5696094|         41|   3|        1:27.739|          217.586|2024-01-17 12:07:...|\n",
      "+---------+-------+---------+--------------+------+----+--------+-------------+--------------+------+----+-----------+------------+-----------+----+----------------+-----------------+--------------------+\n",
      "only showing top 2 rows\n",
      "\n"
     ]
    }
   ],
   "source": [
    "results_final_df = results_with_columns_df.drop(col(\"statusId\"))\n",
    "results_final_df.show(2)"
   ]
  },
  {
   "cell_type": "code",
   "execution_count": 7,
   "id": "df98f7f5",
   "metadata": {},
   "outputs": [],
   "source": [
    "results_final_df.write.mode(\"overwrite\").partitionBy('race_id').parquet(\"processed/results\")"
   ]
  }
 ],
 "metadata": {
  "kernelspec": {
   "display_name": "Python 3 (ipykernel)",
   "language": "python",
   "name": "python3"
  },
  "language_info": {
   "codemirror_mode": {
    "name": "ipython",
    "version": 3
   },
   "file_extension": ".py",
   "mimetype": "text/x-python",
   "name": "python",
   "nbconvert_exporter": "python",
   "pygments_lexer": "ipython3",
   "version": "3.8.18"
  }
 },
 "nbformat": 4,
 "nbformat_minor": 5
}
