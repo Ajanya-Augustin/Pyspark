{
 "cells": [
  {
   "attachments": {},
   "cell_type": "markdown",
   "id": "09c424b6",
   "metadata": {},
   "source": [
    "<div style=\"max-width:1400px;margin-center: auto\">\n",
    "<img src=\"images\\constructor standing.png\" width=\"600\"/>\n",
    "</div>"
   ]
  },
  {
   "cell_type": "code",
   "execution_count": 1,
   "id": "9aaaf543",
   "metadata": {},
   "outputs": [],
   "source": [
    "import findspark\n",
    "findspark.init()\n",
    "from pyspark import SparkContext, SparkConf\n",
    "from pyspark.sql import SparkSession\n",
    "conf = SparkConf().setAppName('Constructor Standings').setMaster('local')\n",
    "sc= SparkContext(conf=conf)\n",
    "spark = SparkSession(sc)"
   ]
  },
  {
   "cell_type": "code",
   "execution_count": 4,
   "id": "1449fa0b",
   "metadata": {},
   "outputs": [
    {
     "name": "stdout",
     "output_type": "stream",
     "text": [
      "+---------+-----------------+-------------------+----------------+--------------+-------------+------------------+-------+----+-----------+---------+------+--------+\n",
      "|race_year|        race_name|          race_date|circuit_location|   driver_name|driver_number|driver_nationality|   team|grid|fastest_lap|race_time|points|position|\n",
      "+---------+-----------------+-------------------+----------------+--------------+-------------+------------------+-------+----+-----------+---------+------+--------+\n",
      "|     1974|German Grand Prix|1974-08-04 00:00:00|         Nürburg|Clay Regazzoni|         null|             Swiss|Ferrari|   2|       null|1:41:35.0|   9.0|       1|\n",
      "|     1974|German Grand Prix|1974-08-04 00:00:00|         Nürburg|Jody Scheckter|         null|     South African|Tyrrell|   4|       null|    +50.7|   6.0|       2|\n",
      "+---------+-----------------+-------------------+----------------+--------------+-------------+------------------+-------+----+-----------+---------+------+--------+\n",
      "only showing top 2 rows\n",
      "\n"
     ]
    }
   ],
   "source": [
    "result_df = spark.read.parquet(r'E:\\unused\\Udemy\\Spark_practice\\raw\\presentation\\race_result')\n",
    "result_df.show(2)"
   ]
  },
  {
   "cell_type": "code",
   "execution_count": 10,
   "id": "281e8430",
   "metadata": {},
   "outputs": [],
   "source": [
    "from pyspark.sql.functions import rank,desc, sum, count, col, when\n",
    "from pyspark.sql.window import Window"
   ]
  },
  {
   "cell_type": "code",
   "execution_count": 14,
   "id": "b69a6eda",
   "metadata": {},
   "outputs": [
    {
     "name": "stdout",
     "output_type": "stream",
     "text": [
      "+--------+---------+------------+----+\n",
      "|    team|race_year|Total Points|wins|\n",
      "+--------+---------+------------+----+\n",
      "| McLaren|     2020|       202.0|   0|\n",
      "|Williams|     2020|         0.0|   0|\n",
      "+--------+---------+------------+----+\n",
      "only showing top 2 rows\n",
      "\n"
     ]
    }
   ],
   "source": [
    "constructor_standing = result_df.\\\n",
    "            groupBy('team','race_year').\\\n",
    "            agg(sum('points').alias('Total Points'),\n",
    "               count(when(col(\"position\") == 1, True)).alias('wins'))\n",
    "constructor_standing.filter('race_year = 2020').show(2)"
   ]
  },
  {
   "cell_type": "code",
   "execution_count": 20,
   "id": "626b1fc4",
   "metadata": {},
   "outputs": [
    {
     "name": "stdout",
     "output_type": "stream",
     "text": [
      "+------------+---------+------------+----+----+\n",
      "|        team|race_year|Total Points|wins|rank|\n",
      "+------------+---------+------------+----+----+\n",
      "|    Mercedes|     2020|       573.0|  13|   1|\n",
      "|    Red Bull|     2020|       319.0|   2|   2|\n",
      "|Racing Point|     2020|       210.0|   1|   3|\n",
      "|     McLaren|     2020|       202.0|   0|   4|\n",
      "|     Renault|     2020|       181.0|   0|   5|\n",
      "|     Ferrari|     2020|       131.0|   0|   6|\n",
      "|  AlphaTauri|     2020|       107.0|   1|   7|\n",
      "|  Alfa Romeo|     2020|         8.0|   0|   8|\n",
      "|Haas F1 Team|     2020|         3.0|   0|   9|\n",
      "|    Williams|     2020|         0.0|   0|  10|\n",
      "+------------+---------+------------+----+----+\n",
      "\n"
     ]
    }
   ],
   "source": [
    "constructorWindowSpec = Window.partitionBy('race_year').orderBy(desc('Total Points'), desc('wins'))\n",
    "constructor_standings = constructor_standing.withColumn('rank', rank().over(constructorWindowSpec))\n",
    "constructor_standings.filter('race_year = 2020').show(11)"
   ]
  },
  {
   "cell_type": "code",
   "execution_count": 22,
   "id": "324b43b7",
   "metadata": {},
   "outputs": [],
   "source": [
    "constructor_standings.write.parquet('presentation/constructor standing')"
   ]
  },
  {
   "cell_type": "code",
   "execution_count": null,
   "id": "2337ab90",
   "metadata": {},
   "outputs": [],
   "source": []
  }
 ],
 "metadata": {
  "kernelspec": {
   "display_name": "Python 3 (ipykernel)",
   "language": "python",
   "name": "python3"
  },
  "language_info": {
   "codemirror_mode": {
    "name": "ipython",
    "version": 3
   },
   "file_extension": ".py",
   "mimetype": "text/x-python",
   "name": "python",
   "nbconvert_exporter": "python",
   "pygments_lexer": "ipython3",
   "version": "3.8.18"
  }
 },
 "nbformat": 4,
 "nbformat_minor": 5
}
