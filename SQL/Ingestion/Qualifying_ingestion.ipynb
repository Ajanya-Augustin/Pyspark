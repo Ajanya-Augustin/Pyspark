{
 "cells": [
  {
   "cell_type": "markdown",
   "id": "7e5fce1c",
   "metadata": {},
   "source": [
    "<div style=\"max-width:1400px;margin-center: auto\">\n",
    "<img src=\"images\\qualifying.png\" width=\"600\"/>\n",
    "</div>"
   ]
  },
  {
   "cell_type": "code",
   "execution_count": 1,
   "id": "6a8ab789",
   "metadata": {},
   "outputs": [],
   "source": [
    "import findspark\n",
    "findspark.init()\n",
    "import pyspark\n",
    "from pyspark import SparkContext, SparkConf\n",
    "from pyspark.sql import SparkSession\n",
    "spark = SparkSession.builder.master('local') \\\n",
    "    .appName(\"qualifying\") \\\n",
    "    .config(\"spark.sql.catalogImplementation\", \"hive\") \\\n",
    "    .getOrCreate()"
   ]
  },
  {
   "cell_type": "code",
   "execution_count": 2,
   "id": "3eb772c5",
   "metadata": {},
   "outputs": [],
   "source": [
    "from pyspark.sql.types import StructType, StructField, IntegerType, StringType\n",
    "from pyspark.sql.functions import current_timestamp"
   ]
  },
  {
   "cell_type": "code",
   "execution_count": 3,
   "id": "04236aca",
   "metadata": {},
   "outputs": [],
   "source": [
    "qualifying_schema = StructType(fields=[StructField(\"qualifyId\", IntegerType(), False),\n",
    "                                      StructField(\"raceId\", IntegerType(), True),\n",
    "                                      StructField(\"driverId\", StringType(), True),\n",
    "                                      StructField(\"constructorId\", IntegerType(), True),\n",
    "                                      StructField(\"number\", IntegerType(), True),\n",
    "                                      StructField(\"position\", IntegerType(), True),\n",
    "                                      StructField(\"q1\", StringType(), True),\n",
    "                                      StructField(\"q2\", StringType(), True),\n",
    "                                      StructField(\"q3\", StringType(), True)\n",
    "                                     ])"
   ]
  },
  {
   "cell_type": "code",
   "execution_count": 4,
   "id": "ee9e66c8",
   "metadata": {},
   "outputs": [
    {
     "name": "stdout",
     "output_type": "stream",
     "text": [
      "+---------+------+--------+-------------+------+--------+--------+--------+--------+\n",
      "|qualifyId|raceId|driverId|constructorId|number|position|      q1|      q2|      q3|\n",
      "+---------+------+--------+-------------+------+--------+--------+--------+--------+\n",
      "|        1|    18|       1|            1|    22|       1|1:26.572|1:25.187|1:26.714|\n",
      "|        2|    18|       9|            2|     4|       2|1:26.103|1:25.315|1:26.869|\n",
      "+---------+------+--------+-------------+------+--------+--------+--------+--------+\n",
      "only showing top 2 rows\n",
      "\n"
     ]
    }
   ],
   "source": [
    "qualifying_df = spark.read.json(r\"E:\\unused\\Udemy\\Spark_practice\\raw\\raw_files\\qualifying\", multiLine = True, schema = qualifying_schema)\n",
    "qualifying_df.show(2)"
   ]
  },
  {
   "cell_type": "code",
   "execution_count": 5,
   "id": "49f7c8d7",
   "metadata": {},
   "outputs": [],
   "source": [
    "final_df = qualifying_df.withColumnRenamed(\"qualifyId\", \"qualify_id\") \\\n",
    "                        .withColumnRenamed(\"raceId\", \"race_id\") \\\n",
    "                        .withColumnRenamed(\"driverId\", \"driver_id\") \\\n",
    "                        .withColumnRenamed(\"constructorId\", \"constructor_id\") \\\n",
    "                        .withColumn(\"ingestion_date\", current_timestamp())"
   ]
  },
  {
   "cell_type": "code",
   "execution_count": 6,
   "id": "397ffe40",
   "metadata": {},
   "outputs": [],
   "source": [
    "final_df.write.mode('overwrite').format('parquet').saveAsTable('f1_processed.qualifying')"
   ]
  },
  {
   "cell_type": "code",
   "execution_count": null,
   "id": "2ceac67f",
   "metadata": {},
   "outputs": [],
   "source": []
  }
 ],
 "metadata": {
  "kernelspec": {
   "display_name": "Python 3 (ipykernel)",
   "language": "python",
   "name": "python3"
  },
  "language_info": {
   "codemirror_mode": {
    "name": "ipython",
    "version": 3
   },
   "file_extension": ".py",
   "mimetype": "text/x-python",
   "name": "python",
   "nbconvert_exporter": "python",
   "pygments_lexer": "ipython3",
   "version": "3.8.18"
  }
 },
 "nbformat": 4,
 "nbformat_minor": 5
}
