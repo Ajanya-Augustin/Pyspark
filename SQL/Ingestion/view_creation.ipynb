{
 "cells": [
  {
   "cell_type": "code",
   "execution_count": 1,
   "id": "664d1f0a",
   "metadata": {},
   "outputs": [],
   "source": [
    "import findspark\n",
    "findspark.init()\n",
    "import pyspark\n",
    "from pyspark import SparkContext, SparkConf\n",
    "from pyspark.sql import SparkSession\n",
    "# conf = SparkConf().setAppName('DB_creation').setMaster('local')\n",
    "# sc = SparkContext(conf = conf)\n",
    "# spark = SparkSession(sc)\n",
    "spark = SparkSession.builder.master('local') \\\n",
    "    .appName(\"example\") \\\n",
    "    .config(\"spark.sql.catalogImplementation\", \"hive\") \\\n",
    "    .getOrCreate()"
   ]
  },
  {
   "cell_type": "code",
   "execution_count": 2,
   "id": "eee5968f",
   "metadata": {},
   "outputs": [
    {
     "data": {
      "text/plain": [
       "DataFrame[]"
      ]
     },
     "execution_count": 2,
     "metadata": {},
     "output_type": "execute_result"
    }
   ],
   "source": [
    "spark.sql('CREATE DATABASE IF NOT EXISTS f1_processed location \"file:/E:/unused/Udemy/Spark_practice/raw/SQL/spark_processed\"')"
   ]
  },
  {
   "cell_type": "code",
   "execution_count": 3,
   "id": "3b37f690",
   "metadata": {},
   "outputs": [
    {
     "name": "stdout",
     "output_type": "stream",
     "text": [
      "+--------------+------------------------------------------------------------+\n",
      "|info_name     |info_value                                                  |\n",
      "+--------------+------------------------------------------------------------+\n",
      "|Namespace Name|f1_processed                                                |\n",
      "|Comment       |                                                            |\n",
      "|Location      |file:/E:/unused/Udemy/Spark_practice/raw/SQL/spark_processed|\n",
      "|Owner         |user                                                        |\n",
      "|Properties    |                                                            |\n",
      "+--------------+------------------------------------------------------------+\n",
      "\n"
     ]
    }
   ],
   "source": [
    "spark.sql('DESCRIBE DATABASE EXTENDED f1_processed').show(truncate = False)"
   ]
  },
  {
   "cell_type": "code",
   "execution_count": null,
   "id": "020f46be",
   "metadata": {},
   "outputs": [],
   "source": [
    "spark.sql('DROP DATABASE f1_processed CASCADE')"
   ]
  },
  {
   "cell_type": "code",
   "execution_count": 2,
   "id": "12515309",
   "metadata": {},
   "outputs": [
    {
     "name": "stdout",
     "output_type": "stream",
     "text": [
      "+------------+------------+-----------+\n",
      "|   namespace|   tableName|isTemporary|\n",
      "+------------+------------+-----------+\n",
      "|f1_processed|    circuits|      false|\n",
      "|f1_processed|constructors|      false|\n",
      "|f1_processed|     drivers|      false|\n",
      "|f1_processed|   lap_times|      false|\n",
      "|f1_processed|  qualifying|      false|\n",
      "|f1_processed|       races|      false|\n",
      "|f1_processed|     results|      false|\n",
      "+------------+------------+-----------+\n",
      "\n"
     ]
    }
   ],
   "source": [
    "spark.sql('SHOW TABLES IN f1_processed').show()"
   ]
  },
  {
   "cell_type": "code",
   "execution_count": 2,
   "id": "46881f08",
   "metadata": {},
   "outputs": [
    {
     "name": "stdout",
     "output_type": "stream",
     "text": [
      "+------------+\n",
      "|   namespace|\n",
      "+------------+\n",
      "|     default|\n",
      "|f1_processed|\n",
      "+------------+\n",
      "\n"
     ]
    }
   ],
   "source": [
    "spark.sql('show databases').show()"
   ]
  },
  {
   "cell_type": "code",
   "execution_count": null,
   "id": "b8b65882",
   "metadata": {},
   "outputs": [],
   "source": [
    "spark.stop()"
   ]
  }
 ],
 "metadata": {
  "kernelspec": {
   "display_name": "Python 3 (ipykernel)",
   "language": "python",
   "name": "python3"
  },
  "language_info": {
   "codemirror_mode": {
    "name": "ipython",
    "version": 3
   },
   "file_extension": ".py",
   "mimetype": "text/x-python",
   "name": "python",
   "nbconvert_exporter": "python",
   "pygments_lexer": "ipython3",
   "version": "3.8.18"
  }
 },
 "nbformat": 4,
 "nbformat_minor": 5
}
