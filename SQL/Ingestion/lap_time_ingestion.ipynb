{
 "cells": [
  {
   "cell_type": "markdown",
   "id": "f8a4602c",
   "metadata": {},
   "source": [
    "<div style=\"max-width:1400px;margin-center: auto\">\n",
    "<img src=\"images\\laptime.png\" width=\"600\"/>\n",
    "</div>"
   ]
  },
  {
   "cell_type": "code",
   "execution_count": 1,
   "id": "a1ac7e73",
   "metadata": {},
   "outputs": [],
   "source": [
    "import findspark\n",
    "findspark.init()\n",
    "import pyspark\n",
    "from pyspark import SparkContext, SparkConf\n",
    "from pyspark.sql import SparkSession\n",
    "spark = SparkSession.builder.master('local') \\\n",
    "    .appName(\"laptime\") \\\n",
    "    .config(\"spark.sql.catalogImplementation\", \"hive\") \\\n",
    "    .getOrCreate()"
   ]
  },
  {
   "cell_type": "code",
   "execution_count": 2,
   "id": "d4e94246",
   "metadata": {},
   "outputs": [],
   "source": [
    "from pyspark.sql.types import StructField, StructType, IntegerType, StringType\n",
    "from pyspark.sql.functions import col, current_timestamp"
   ]
  },
  {
   "cell_type": "code",
   "execution_count": 3,
   "id": "b95b4ad3",
   "metadata": {},
   "outputs": [],
   "source": [
    "lap_time_schema = StructType( fields = [StructField(\"raceId\", IntegerType(), False),\n",
    "                                        StructField(\"driverId\", IntegerType(), True),\n",
    "                                        StructField(\"lap\", IntegerType(), True),\n",
    "                                        StructField(\"position\", IntegerType(), True),\n",
    "                                        StructField(\"time\", StringType(), True),\n",
    "                                        StructField(\"milliseconds\", IntegerType(), True)])"
   ]
  },
  {
   "cell_type": "code",
   "execution_count": 4,
   "id": "5b83781d",
   "metadata": {},
   "outputs": [
    {
     "name": "stdout",
     "output_type": "stream",
     "text": [
      "+------+--------+---+--------+--------+------------+\n",
      "|raceId|driverId|lap|position|    time|milliseconds|\n",
      "+------+--------+---+--------+--------+------------+\n",
      "|   841|      20|  1|       1|1:38.109|       98109|\n",
      "|   841|      20|  2|       1|1:33.006|       93006|\n",
      "+------+--------+---+--------+--------+------------+\n",
      "only showing top 2 rows\n",
      "\n"
     ]
    }
   ],
   "source": [
    "lap_time_df = spark.read.csv(r\"E:\\unused\\Udemy\\Spark_practice\\raw\\raw_files\\lap_times\", schema = lap_time_schema)\n",
    "lap_time_df.show(2)"
   ]
  },
  {
   "cell_type": "code",
   "execution_count": 5,
   "id": "744e7c52",
   "metadata": {},
   "outputs": [
    {
     "data": {
      "text/plain": [
       "490904"
      ]
     },
     "execution_count": 5,
     "metadata": {},
     "output_type": "execute_result"
    }
   ],
   "source": [
    "lap_time_df.count()"
   ]
  },
  {
   "cell_type": "code",
   "execution_count": 6,
   "id": "f033ff98",
   "metadata": {},
   "outputs": [
    {
     "name": "stdout",
     "output_type": "stream",
     "text": [
      "+-------+---------+---+--------+--------+------------+--------------------+\n",
      "|race_id|driver_id|lap|position|    time|milliseconds|      ingestion_date|\n",
      "+-------+---------+---+--------+--------+------------+--------------------+\n",
      "|    841|       20|  1|       1|1:38.109|       98109|2024-01-17 12:05:...|\n",
      "|    841|       20|  2|       1|1:33.006|       93006|2024-01-17 12:05:...|\n",
      "+-------+---------+---+--------+--------+------------+--------------------+\n",
      "only showing top 2 rows\n",
      "\n"
     ]
    }
   ],
   "source": [
    "lap_time_fnl_df = lap_time_df.withColumnRenamed(\"raceId\",\"race_id\").\\\n",
    "                              withColumnRenamed(\"driverId\",\"driver_id\").\\\n",
    "                              withColumn(\"ingestion_date\",current_timestamp())\n",
    "lap_time_fnl_df.show(2)"
   ]
  },
  {
   "cell_type": "code",
   "execution_count": 7,
   "id": "9a1b0f2b",
   "metadata": {},
   "outputs": [],
   "source": [
    "lap_time_fnl_df.write.mode('overwrite').format('parquet').saveAsTable('f1_processed.lap_times')"
   ]
  }
 ],
 "metadata": {
  "kernelspec": {
   "display_name": "Python 3 (ipykernel)",
   "language": "python",
   "name": "python3"
  },
  "language_info": {
   "codemirror_mode": {
    "name": "ipython",
    "version": 3
   },
   "file_extension": ".py",
   "mimetype": "text/x-python",
   "name": "python",
   "nbconvert_exporter": "python",
   "pygments_lexer": "ipython3",
   "version": "3.8.18"
  }
 },
 "nbformat": 4,
 "nbformat_minor": 5
}
