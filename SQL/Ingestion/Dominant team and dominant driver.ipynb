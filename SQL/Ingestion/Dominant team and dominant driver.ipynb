{
 "cells": [
  {
   "cell_type": "code",
   "execution_count": 1,
   "id": "278ff2bc",
   "metadata": {},
   "outputs": [],
   "source": [
    "import findspark\n",
    "findspark.init()\n",
    "import pyspark\n",
    "from pyspark import SparkContext, SparkConf\n",
    "from pyspark.sql import SparkSession\n",
    "spark = SparkSession.builder.master('local') \\\n",
    "    .appName(\"transform\") \\\n",
    "    .config(\"spark.sql.catalogImplementation\", \"hive\") \\\n",
    "    .getOrCreate()"
   ]
  },
  {
   "cell_type": "markdown",
   "id": "92d23cc0",
   "metadata": {},
   "source": [
    "* Without .getOrCreate()  \n",
    "If you don't use .getOrCreate(), a new Spark session will be created each time you execute this code, even if a Spark session with the same configuration already exists."
   ]
  },
  {
   "cell_type": "code",
   "execution_count": 5,
   "id": "902fb418",
   "metadata": {},
   "outputs": [
    {
     "name": "stdout",
     "output_type": "stream",
     "text": [
      "+------------+------------+-----------+\n",
      "|   namespace|   tableName|isTemporary|\n",
      "+------------+------------+-----------+\n",
      "|f1_processed|    circuits|      false|\n",
      "|f1_processed|constructors|      false|\n",
      "|f1_processed|     drivers|      false|\n",
      "|f1_processed|   lap_times|      false|\n",
      "|f1_processed|  qualifying|      false|\n",
      "|f1_processed|       races|      false|\n",
      "|f1_processed|     results|      false|\n",
      "+------------+------------+-----------+\n",
      "\n"
     ]
    }
   ],
   "source": [
    "spark.sql('SHOW TABLES IN f1_processed').show()"
   ]
  },
  {
   "cell_type": "markdown",
   "id": "4f3f5de6",
   "metadata": {},
   "source": [
    "for points for positions had changed over years. so to automate that the calculated column is made"
   ]
  },
  {
   "cell_type": "code",
   "execution_count": 6,
   "id": "83737531",
   "metadata": {},
   "outputs": [
    {
     "data": {
      "text/plain": [
       "DataFrame[]"
      ]
     },
     "execution_count": 6,
     "metadata": {},
     "output_type": "execute_result"
    }
   ],
   "source": [
    "spark.sql('CREATE TABLE f1_processed.calculated_race_results USING parquet AS SELECT races.race_year, constructors.name AS team_name, drivers.name AS driver_name, results.position, results.points,11 - results.position AS calculated_points FROM f1_processed.results JOIN f1_processed.drivers ON (results.driver_id = drivers.driver_id)   JOIN f1_processed.constructors ON (results.constructor_id = constructors.constructor_id)   JOIN f1_processed.races ON (results.race_id = races.race_id)  WHERE results.position <= 10')"
   ]
  },
  {
   "cell_type": "markdown",
   "id": "7ae2a7f3",
   "metadata": {},
   "source": [
    "```\n",
    "CREATE TABLE f1_processed.calculated_race_results\n",
    "USING parquet\n",
    "AS\n",
    "SELECT races.race_year,\n",
    "       constructors.name AS team_name,\n",
    "       drivers.name AS driver_name,\n",
    "       results.position,\n",
    "       results.points,\n",
    "       11 - results.position AS calculated_points\n",
    "  FROM results \n",
    "  JOIN f1_processed.drivers ON (results.driver_id = drivers.driver_id)\n",
    "  JOIN f1_processed.constructors ON (results.constructor_id = constructors.constructor_id)\n",
    "  JOIN f1_processed.races ON (results.race_id = races.race_id)\n",
    " WHERE results.position <= 10\n",
    " ```"
   ]
  },
  {
   "cell_type": "markdown",
   "id": "7163d7d8",
   "metadata": {},
   "source": [
    "### Dominant team  \n",
    "The avg score of tam is calculated to find the dominant team"
   ]
  },
  {
   "cell_type": "code",
   "execution_count": 8,
   "id": "7601f727",
   "metadata": {},
   "outputs": [
    {
     "name": "stdout",
     "output_type": "stream",
     "text": [
      "+-----------+-----------+------------+------------------+\n",
      "|  team_name|total_races|total_points|        avg_points|\n",
      "+-----------+-----------+------------+------------------+\n",
      "|   Mercedes|        331|        2580| 7.794561933534744|\n",
      "|   Red Bull|        313|        2201| 7.031948881789138|\n",
      "|    Ferrari|        314|        2095| 6.671974522292993|\n",
      "|    McLaren|        204|         984| 4.823529411764706|\n",
      "|   Williams|        125|         531|             4.248|\n",
      "|Force India|        189|         671|3.5502645502645502|\n",
      "| Toro Rosso|        119|         316|2.6554621848739495|\n",
      "+-----------+-----------+------------+------------------+\n",
      "\n"
     ]
    }
   ],
   "source": [
    "spark.sql('SELECT team_name, COUNT(1) AS total_races, SUM(calculated_points) AS total_points, AVG(calculated_points) AS avg_points FROM f1_processed.calculated_race_results WHERE race_year BETWEEN 2011 AND 2020 GROUP BY team_name HAVING COUNT(1) >= 100 ORDER BY avg_points DESC').show()"
   ]
  },
  {
   "cell_type": "markdown",
   "id": "33ce9b04",
   "metadata": {},
   "source": [
    "```\n",
    "SELECT team_name,\n",
    "       COUNT(1) AS total_races,\n",
    "       SUM(calculated_points) AS total_points,\n",
    "       AVG(calculated_points) AS avg_points\n",
    "  FROM f1_processed.calculated_race_results\n",
    " WHERE race_year BETWEEN 2011 AND 2020\n",
    "GROUP BY team_name\n",
    "HAVING COUNT(1) >= 100\n",
    "ORDER BY avg_points DESC\n",
    "```"
   ]
  },
  {
   "cell_type": "markdown",
   "id": "e6942cc8",
   "metadata": {},
   "source": [
    "### Dominant Driver"
   ]
  },
  {
   "cell_type": "code",
   "execution_count": 9,
   "id": "bfab9871",
   "metadata": {},
   "outputs": [
    {
     "name": "stdout",
     "output_type": "stream",
     "text": [
      "+--------------------+-----------+------------+------------------+\n",
      "|         driver_name|total_races|total_points|        avg_points|\n",
      "+--------------------+-----------+------------+------------------+\n",
      "|  Michael Schumacher|        104|         832|               8.0|\n",
      "|      Lewis Hamilton|         55|         425|7.7272727272727275|\n",
      "|  Juan Pablo Montoya|         58|         427| 7.362068965517241|\n",
      "|     Fernando Alonso|        114|         827| 7.254385964912281|\n",
      "|      Kimi Räikkönen|        106|         758| 7.150943396226415|\n",
      "|  Rubens Barrichello|        113|         696|  6.15929203539823|\n",
      "|       Jenson Button|        102|         601| 5.892156862745098|\n",
      "|        Felipe Massa|         93|         533| 5.731182795698925|\n",
      "|     Ralf Schumacher|         70|         399|               5.7|\n",
      "|       Robert Kubica|         51|         283| 5.549019607843137|\n",
      "|     David Coulthard|         79|         424| 5.367088607594937|\n",
      "|        Jarno Trulli|         83|         409| 4.927710843373494|\n",
      "|         Mark Webber|         84|         411| 4.892857142857143|\n",
      "|Giancarlo Fisichella|         74|         361| 4.878378378378378|\n",
      "|       Nick Heidfeld|         92|         418| 4.543478260869565|\n",
      "|        Nico Rosberg|         51|         226| 4.431372549019608|\n",
      "+--------------------+-----------+------------+------------------+\n",
      "\n"
     ]
    }
   ],
   "source": [
    "spark.sql('SELECT driver_name, COUNT(1) AS total_races, SUM(calculated_points) AS total_points, AVG(calculated_points) AS avg_points FROM f1_processed.calculated_race_results WHERE race_year BETWEEN 2001 AND 2010 GROUP BY driver_name HAVING COUNT(1) >= 50 ORDER BY avg_points DESC').show()"
   ]
  },
  {
   "cell_type": "markdown",
   "id": "fe0df1c7",
   "metadata": {},
   "source": [
    "```\n",
    "SELECT driver_name,\n",
    "       COUNT(1) AS total_races,\n",
    "       SUM(calculated_points) AS total_points,\n",
    "       AVG(calculated_points) AS avg_points\n",
    "  FROM f1_processed.calculated_race_results\n",
    " WHERE race_year BETWEEN 2001 AND 2010\n",
    "GROUP BY driver_name\n",
    "HAVING COUNT(1) >= 50\n",
    "ORDER BY avg_points DESC\n",
    "\n",
    "```"
   ]
  }
 ],
 "metadata": {
  "kernelspec": {
   "display_name": "Python 3 (ipykernel)",
   "language": "python",
   "name": "python3"
  },
  "language_info": {
   "codemirror_mode": {
    "name": "ipython",
    "version": 3
   },
   "file_extension": ".py",
   "mimetype": "text/x-python",
   "name": "python",
   "nbconvert_exporter": "python",
   "pygments_lexer": "ipython3",
   "version": "3.8.18"
  }
 },
 "nbformat": 4,
 "nbformat_minor": 5
}
