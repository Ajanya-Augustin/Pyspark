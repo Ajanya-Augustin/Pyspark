{
 "cells": [
  {
   "cell_type": "markdown",
   "id": "cfc4c667",
   "metadata": {},
   "source": [
    "## Requirement"
   ]
  },
  {
   "cell_type": "markdown",
   "id": "4e54f60f",
   "metadata": {},
   "source": [
    "<div style=\"max-width:1400px;margin-center: auto\">\n",
    "<img src=\"images\\circuit.png\" width=\"600\"/>\n",
    "</div>"
   ]
  },
  {
   "cell_type": "markdown",
   "id": "d58803e2",
   "metadata": {},
   "source": [
    "## Insert Data"
   ]
  },
  {
   "cell_type": "code",
   "execution_count": 1,
   "id": "98b81908",
   "metadata": {},
   "outputs": [],
   "source": [
    "import findspark\n",
    "findspark.init()\n",
    "import pyspark\n",
    "from pyspark import SparkContext, SparkConf\n",
    "from pyspark.sql import SparkSession\n",
    "# conf = SparkConf().setAppName('DB_creation').setMaster('local')\n",
    "# sc = SparkContext(conf = conf)\n",
    "# spark = SparkSession(sc)\n",
    "spark = SparkSession.builder.master('local') \\\n",
    "    .appName(\"circuit\") \\\n",
    "    .config(\"spark.sql.catalogImplementation\", \"hive\") \\\n",
    "    .getOrCreate()"
   ]
  },
  {
   "cell_type": "code",
   "execution_count": 2,
   "id": "dc001635",
   "metadata": {},
   "outputs": [],
   "source": [
    "from pyspark.sql.types import StructType, StructField, IntegerType, StringType, DoubleType"
   ]
  },
  {
   "cell_type": "code",
   "execution_count": 3,
   "id": "825a07fa",
   "metadata": {},
   "outputs": [],
   "source": [
    "circuits_schema = StructType(fields=[StructField(\"circuitId\", IntegerType(), False),\n",
    "                                     StructField(\"circuitRef\", StringType(), True),\n",
    "                                     StructField(\"name\", StringType(), True),\n",
    "                                     StructField(\"location\", StringType(), True),\n",
    "                                     StructField(\"country\", StringType(), True),\n",
    "                                     StructField(\"lat\", DoubleType(), True),\n",
    "                                     StructField(\"lng\", DoubleType(), True),\n",
    "                                     StructField(\"alt\", IntegerType(), True),\n",
    "                                     StructField(\"url\", StringType(), True)\n",
    "])\n",
    "#even though nullable for circuit id is given false it is not applied,\n",
    "#to apply this we should use other functions"
   ]
  },
  {
   "cell_type": "code",
   "execution_count": 4,
   "id": "e91cb85d",
   "metadata": {},
   "outputs": [],
   "source": [
    "# circuit_df = spark.read.csv(\"circuits.csv\",header=True,inferSchema =True)\n",
    "circuit_df = spark.read.csv(r\"E:\\unused\\Udemy\\Spark_practice\\raw\\raw_files\\circuits.csv\"\n",
    "                            ,header=True,schema =circuits_schema)\n",
    "#default header is false but if false the first row is not identified as header\n",
    "#inferSchema : identifies the datatype of data by itself(it reads thg all data)\n",
    "#if massive data inferschema is not an efficent method\n",
    "# circuit_df = spark.read.option(\"header\",True).option(\"inferSchema\",True).csv(\"circuits.csv\")\n",
    "# circuit_df = spark.read.option(\"header\",True).schem(circuits_schema).csv(\"circuits.csv\")"
   ]
  },
  {
   "cell_type": "markdown",
   "id": "6487b6cf",
   "metadata": {},
   "source": [
    "### Datatypes in spark\n",
    "StructType:StructType is going to consist many StructFields.\n",
    "the type is a wrapper around all your StructFields\n",
    "this is basically representing a row\n",
    "StructType represents your row and your StructFields represent your fields or individual columns."
   ]
  },
  {
   "cell_type": "code",
   "execution_count": 5,
   "id": "3251ce6f",
   "metadata": {},
   "outputs": [
    {
     "data": {
      "text/plain": [
       "pyspark.sql.dataframe.DataFrame"
      ]
     },
     "execution_count": 5,
     "metadata": {},
     "output_type": "execute_result"
    }
   ],
   "source": [
    "type(circuit_df)"
   ]
  },
  {
   "cell_type": "code",
   "execution_count": 6,
   "id": "4c78298d",
   "metadata": {},
   "outputs": [
    {
     "name": "stdout",
     "output_type": "stream",
     "text": [
      "+---------+--------------+--------------------+------------+---------+--------+---------+---+--------------------+\n",
      "|circuitId|    circuitRef|                name|    location|  country|     lat|      lng|alt|                 url|\n",
      "+---------+--------------+--------------------+------------+---------+--------+---------+---+--------------------+\n",
      "|        1|   albert_park|Albert Park Grand...|   Melbourne|Australia|-37.8497|  144.968| 10|http://en.wikiped...|\n",
      "|        2|        sepang|Sepang Internatio...|Kuala Lumpur| Malaysia| 2.76083|  101.738| 18|http://en.wikiped...|\n",
      "|        3|       bahrain|Bahrain Internati...|      Sakhir|  Bahrain| 26.0325|  50.5106|  7|http://en.wikiped...|\n",
      "|        4|     catalunya|Circuit de Barcel...|    Montmeló|    Spain|   41.57|  2.26111|109|http://en.wikiped...|\n",
      "|        5|      istanbul|       Istanbul Park|    Istanbul|   Turkey| 40.9517|   29.405|130|http://en.wikiped...|\n",
      "|        6|        monaco|   Circuit de Monaco| Monte-Carlo|   Monaco| 43.7347|  7.42056|  7|http://en.wikiped...|\n",
      "|        7|    villeneuve|Circuit Gilles Vi...|    Montreal|   Canada|    45.5| -73.5228| 13|http://en.wikiped...|\n",
      "|        8|   magny_cours|Circuit de Nevers...| Magny Cours|   France| 46.8642|  3.16361|228|http://en.wikiped...|\n",
      "|        9|   silverstone| Silverstone Circuit| Silverstone|       UK| 52.0786| -1.01694|153|http://en.wikiped...|\n",
      "|       10|hockenheimring|      Hockenheimring|  Hockenheim|  Germany| 49.3278|  8.56583|103|http://en.wikiped...|\n",
      "|       11|   hungaroring|         Hungaroring|    Budapest|  Hungary| 47.5789|  19.2486|264|http://en.wikiped...|\n",
      "|       12|      valencia|Valencia Street C...|    Valencia|    Spain| 39.4589|-0.331667|  4|http://en.wikiped...|\n",
      "|       13|           spa|Circuit de Spa-Fr...|         Spa|  Belgium| 50.4372|  5.97139|401|http://en.wikiped...|\n",
      "|       14|         monza|Autodromo Naziona...|       Monza|    Italy| 45.6156|  9.28111|162|http://en.wikiped...|\n",
      "|       15|    marina_bay|Marina Bay Street...|  Marina Bay|Singapore|  1.2914|  103.864| 18|http://en.wikiped...|\n",
      "|       16|          fuji|       Fuji Speedway|       Oyama|    Japan| 35.3717|  138.927|583|http://en.wikiped...|\n",
      "|       17|      shanghai|Shanghai Internat...|    Shanghai|    China| 31.3389|   121.22|  5|http://en.wikiped...|\n",
      "|       18|    interlagos|Autódromo José Ca...|   São Paulo|   Brazil|-23.7036| -46.6997|785|http://en.wikiped...|\n",
      "|       19|  indianapolis|Indianapolis Moto...|Indianapolis|      USA|  39.795| -86.2347|223|http://en.wikiped...|\n",
      "|       20|   nurburgring|         Nürburgring|     Nürburg|  Germany| 50.3356|   6.9475|578|http://en.wikiped...|\n",
      "+---------+--------------+--------------------+------------+---------+--------+---------+---+--------------------+\n",
      "only showing top 20 rows\n",
      "\n"
     ]
    }
   ],
   "source": [
    "# display(circuit_df)\n",
    "circuit_df.show()"
   ]
  },
  {
   "cell_type": "code",
   "execution_count": 7,
   "id": "cce0cf85",
   "metadata": {},
   "outputs": [
    {
     "name": "stdout",
     "output_type": "stream",
     "text": [
      "root\n",
      " |-- circuitId: integer (nullable = true)\n",
      " |-- circuitRef: string (nullable = true)\n",
      " |-- name: string (nullable = true)\n",
      " |-- location: string (nullable = true)\n",
      " |-- country: string (nullable = true)\n",
      " |-- lat: double (nullable = true)\n",
      " |-- lng: double (nullable = true)\n",
      " |-- alt: integer (nullable = true)\n",
      " |-- url: string (nullable = true)\n",
      "\n"
     ]
    }
   ],
   "source": [
    "# to get the schema of the data\n",
    "circuit_df.printSchema()"
   ]
  },
  {
   "cell_type": "code",
   "execution_count": 8,
   "id": "72a10790",
   "metadata": {},
   "outputs": [
    {
     "name": "stdout",
     "output_type": "stream",
     "text": [
      "+-------+------------------+----------+-------+---------+---------+------------------+-----------------+-----------------+--------------------+\n",
      "|summary|         circuitId|circuitRef|   name| location|  country|               lat|              lng|              alt|                 url|\n",
      "+-------+------------------+----------+-------+---------+---------+------------------+-----------------+-----------------+--------------------+\n",
      "|  count|                77|        77|     77|       77|       77|                77|               77|               77|                  77|\n",
      "|   mean|              39.0|      null|   null|     null|     null| 33.72035103896102|3.551302597402597|247.4935064935065|                null|\n",
      "| stddev|22.371857321197094|      null|   null|     null|     null|22.885969000074535| 64.8766790440326|363.2672505910991|                null|\n",
      "|    min|                 1|       BAK|A1-Ring|Abu Dhabi|Argentina|          -37.8497|         -118.189|               -7|http://en.wikiped...|\n",
      "|    max|                77|    zolder| Zolder|Zandvoort|  Vietnam|           57.2653|          144.968|             2227|http://en.wikiped...|\n",
      "+-------+------------------+----------+-------+---------+---------+------------------+-----------------+-----------------+--------------------+\n",
      "\n"
     ]
    }
   ],
   "source": [
    "circuit_df.describe().show()"
   ]
  },
  {
   "cell_type": "code",
   "execution_count": 9,
   "id": "2f2588fb",
   "metadata": {},
   "outputs": [
    {
     "data": {
      "text/plain": [
       "<bound method DataFrame.describe of DataFrame[circuitId: int, circuitRef: string, name: string, location: string, country: string, lat: double, lng: double, alt: int, url: string]>"
      ]
     },
     "execution_count": 9,
     "metadata": {},
     "output_type": "execute_result"
    }
   ],
   "source": [
    "circuit_df.describe"
   ]
  },
  {
   "cell_type": "code",
   "execution_count": 10,
   "id": "c2bff98b",
   "metadata": {},
   "outputs": [
    {
     "data": {
      "text/plain": [
       "DataFrame[summary: string, circuitId: string, circuitRef: string, name: string, location: string, country: string, lat: string, lng: string, alt: string, url: string]"
      ]
     },
     "execution_count": 10,
     "metadata": {},
     "output_type": "execute_result"
    }
   ],
   "source": [
    "circuit_df.describe()"
   ]
  },
  {
   "cell_type": "markdown",
   "id": "af1d4b32",
   "metadata": {},
   "source": [
    "### Select only the required columns"
   ]
  },
  {
   "cell_type": "code",
   "execution_count": 11,
   "id": "0e51ec1c",
   "metadata": {},
   "outputs": [],
   "source": [
    "circuits_selected_df = circuit_df.select(\"circuitId\", \"circuitRef\",\"name\", \"location\",\"country\", \"lat\",\"lng\",\"alt\")\n",
    "#can not apply any col based functions. But can apply for the below ones"
   ]
  },
  {
   "cell_type": "code",
   "execution_count": 12,
   "id": "2d32074c",
   "metadata": {},
   "outputs": [
    {
     "name": "stdout",
     "output_type": "stream",
     "text": [
      "+---------+-----------+--------------------+------------+---------+--------+-------+---+\n",
      "|circuitId| circuitRef|                name|    location|  country|     lat|    lng|alt|\n",
      "+---------+-----------+--------------------+------------+---------+--------+-------+---+\n",
      "|        1|albert_park|Albert Park Grand...|   Melbourne|Australia|-37.8497|144.968| 10|\n",
      "|        2|     sepang|Sepang Internatio...|Kuala Lumpur| Malaysia| 2.76083|101.738| 18|\n",
      "+---------+-----------+--------------------+------------+---------+--------+-------+---+\n",
      "only showing top 2 rows\n",
      "\n"
     ]
    }
   ],
   "source": [
    "circuits_selected_df.show(2)"
   ]
  },
  {
   "cell_type": "code",
   "execution_count": 13,
   "id": "b874f8b1",
   "metadata": {},
   "outputs": [],
   "source": [
    "circuits_selected_df = circuit_df.select(circuit_df.circuitId,circuit_df.circuitRef,circuit_df.name,circuit_df.location.alias(\"new_loc\"),circuit_df.country,circuit_df.lat,circuit_df.lng,circuit_df.alt)"
   ]
  },
  {
   "cell_type": "code",
   "execution_count": 14,
   "id": "ae7ecc44",
   "metadata": {},
   "outputs": [
    {
     "name": "stdout",
     "output_type": "stream",
     "text": [
      "+---------+-----------+--------------------+------------+---------+--------+-------+---+\n",
      "|circuitId| circuitRef|                name|     new_loc|  country|     lat|    lng|alt|\n",
      "+---------+-----------+--------------------+------------+---------+--------+-------+---+\n",
      "|        1|albert_park|Albert Park Grand...|   Melbourne|Australia|-37.8497|144.968| 10|\n",
      "|        2|     sepang|Sepang Internatio...|Kuala Lumpur| Malaysia| 2.76083|101.738| 18|\n",
      "+---------+-----------+--------------------+------------+---------+--------+-------+---+\n",
      "only showing top 2 rows\n",
      "\n"
     ]
    }
   ],
   "source": [
    "circuits_selected_df.show(2)"
   ]
  },
  {
   "cell_type": "code",
   "execution_count": 15,
   "id": "7726ff94",
   "metadata": {},
   "outputs": [],
   "source": [
    "circuits_selected_df = circuit_df.select(circuit_df[\"circuitId\"],circuit_df[\"circuitRef\"],circuit_df[\"name\"],circuit_df[\"location\"],circuit_df[\"country\"],circuit_df[\"lat\"],circuit_df[\"lng\"],circuit_df[\"alt\"])"
   ]
  },
  {
   "cell_type": "code",
   "execution_count": 16,
   "id": "179e17d4",
   "metadata": {},
   "outputs": [
    {
     "name": "stdout",
     "output_type": "stream",
     "text": [
      "+---------+-----------+--------------------+------------+---------+--------+-------+---+\n",
      "|circuitId| circuitRef|                name|    location|  country|     lat|    lng|alt|\n",
      "+---------+-----------+--------------------+------------+---------+--------+-------+---+\n",
      "|        1|albert_park|Albert Park Grand...|   Melbourne|Australia|-37.8497|144.968| 10|\n",
      "|        2|     sepang|Sepang Internatio...|Kuala Lumpur| Malaysia| 2.76083|101.738| 18|\n",
      "+---------+-----------+--------------------+------------+---------+--------+-------+---+\n",
      "only showing top 2 rows\n",
      "\n"
     ]
    }
   ],
   "source": [
    "circuits_selected_df.show(2)"
   ]
  },
  {
   "cell_type": "code",
   "execution_count": 17,
   "id": "45fce6ce",
   "metadata": {},
   "outputs": [],
   "source": [
    "from pyspark.sql.functions import col"
   ]
  },
  {
   "cell_type": "code",
   "execution_count": 18,
   "id": "a38ac7f1",
   "metadata": {},
   "outputs": [],
   "source": [
    "circuits_selected_df = circuit_df.select(col(\"circuitId\"), col(\"circuitRef\"), col(\"name\"), col(\"location\"), col(\"country\"), col(\"lat\"), col(\"lng\"), col(\"alt\"))"
   ]
  },
  {
   "cell_type": "code",
   "execution_count": 19,
   "id": "7d991664",
   "metadata": {},
   "outputs": [
    {
     "name": "stdout",
     "output_type": "stream",
     "text": [
      "+---------+-----------+--------------------+------------+---------+--------+-------+---+\n",
      "|circuitId| circuitRef|                name|    location|  country|     lat|    lng|alt|\n",
      "+---------+-----------+--------------------+------------+---------+--------+-------+---+\n",
      "|        1|albert_park|Albert Park Grand...|   Melbourne|Australia|-37.8497|144.968| 10|\n",
      "|        2|     sepang|Sepang Internatio...|Kuala Lumpur| Malaysia| 2.76083|101.738| 18|\n",
      "+---------+-----------+--------------------+------------+---------+--------+-------+---+\n",
      "only showing top 2 rows\n",
      "\n"
     ]
    }
   ],
   "source": [
    "circuits_selected_df.show(2)"
   ]
  },
  {
   "cell_type": "markdown",
   "id": "bee09bf0",
   "metadata": {},
   "source": [
    "### Rename The columns"
   ]
  },
  {
   "cell_type": "code",
   "execution_count": 20,
   "id": "d282bcd8",
   "metadata": {},
   "outputs": [],
   "source": [
    "circuits_renamed_df = circuits_selected_df.withColumnRenamed(\"circuitId\", \"circuit_id\") \\\n",
    ".withColumnRenamed(\"circuitRef\", \"circuit_ref\") \\\n",
    ".withColumnRenamed(\"lat\", \"latitude\") \\\n",
    ".withColumnRenamed(\"lng\", \"longitude\") \\\n",
    ".withColumnRenamed(\"alt\", \"altitude\") "
   ]
  },
  {
   "cell_type": "code",
   "execution_count": 21,
   "id": "b3a229dc",
   "metadata": {},
   "outputs": [
    {
     "name": "stdout",
     "output_type": "stream",
     "text": [
      "+----------+-----------+--------------------+------------+---------+--------+---------+--------+\n",
      "|circuit_id|circuit_ref|                name|    location|  country|latitude|longitude|altitude|\n",
      "+----------+-----------+--------------------+------------+---------+--------+---------+--------+\n",
      "|         1|albert_park|Albert Park Grand...|   Melbourne|Australia|-37.8497|  144.968|      10|\n",
      "|         2|     sepang|Sepang Internatio...|Kuala Lumpur| Malaysia| 2.76083|  101.738|      18|\n",
      "+----------+-----------+--------------------+------------+---------+--------+---------+--------+\n",
      "only showing top 2 rows\n",
      "\n"
     ]
    }
   ],
   "source": [
    "circuits_renamed_df.show(2)"
   ]
  },
  {
   "cell_type": "markdown",
   "id": "1ed97776",
   "metadata": {},
   "source": [
    "### Add the column"
   ]
  },
  {
   "cell_type": "code",
   "execution_count": 22,
   "id": "b3b51672",
   "metadata": {},
   "outputs": [],
   "source": [
    "from pyspark.sql.functions import current_timestamp, lit"
   ]
  },
  {
   "cell_type": "code",
   "execution_count": 23,
   "id": "4942c334",
   "metadata": {},
   "outputs": [],
   "source": [
    "circuits_final_df = circuits_renamed_df.withColumn(\"ingestion_date\", current_timestamp()) \n",
    "# col name and value of column as parameters"
   ]
  },
  {
   "cell_type": "code",
   "execution_count": 24,
   "id": "e13690ef",
   "metadata": {},
   "outputs": [],
   "source": [
    "# circuits_final_df.show(2)"
   ]
  },
  {
   "cell_type": "code",
   "execution_count": 25,
   "id": "24dd441d",
   "metadata": {},
   "outputs": [],
   "source": [
    "# circuits_final_df.printSchema()"
   ]
  },
  {
   "cell_type": "code",
   "execution_count": 26,
   "id": "6303b0dc",
   "metadata": {},
   "outputs": [],
   "source": [
    "# circuits_final_df = circuits_renamed_df.withColumn(\"env\", lit(\"prod\")) \n"
   ]
  },
  {
   "cell_type": "code",
   "execution_count": 27,
   "id": "87b14700",
   "metadata": {},
   "outputs": [],
   "source": [
    "# circuits_final_df.show(2)"
   ]
  },
  {
   "cell_type": "markdown",
   "id": "28d34dcb",
   "metadata": {},
   "source": [
    "### write data as parquet"
   ]
  },
  {
   "cell_type": "code",
   "execution_count": 28,
   "id": "59628b8e",
   "metadata": {},
   "outputs": [],
   "source": [
    "circuits_renamed_df.write.mode('overwrite').format('parquet').saveAsTable('f1_processed.circuits')"
   ]
  }
 ],
 "metadata": {
  "kernelspec": {
   "display_name": "Python 3 (ipykernel)",
   "language": "python",
   "name": "python3"
  },
  "language_info": {
   "codemirror_mode": {
    "name": "ipython",
    "version": 3
   },
   "file_extension": ".py",
   "mimetype": "text/x-python",
   "name": "python",
   "nbconvert_exporter": "python",
   "pygments_lexer": "ipython3",
   "version": "3.8.18"
  }
 },
 "nbformat": 4,
 "nbformat_minor": 5
}
