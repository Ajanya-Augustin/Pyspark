{
 "cells": [
  {
   "cell_type": "markdown",
   "id": "015a3eeb",
   "metadata": {},
   "source": [
    "To access a dataframe from SQL,Spark gives you two options.\n",
    "* create a temporary view\n",
    "* create a global view."
   ]
  },
  {
   "cell_type": "markdown",
   "id": "7718d6dd",
   "metadata": {},
   "source": [
    "Spark.sql in azure databricks give the ability \n",
    "* to put the output data into a dataframe, and then to use DataFrame API\n",
    "* to use a variable in a SQL statement"
   ]
  },
  {
   "cell_type": "markdown",
   "id": "718f8f51",
   "metadata": {},
   "source": [
    "A temporary view is only valid within a Spark session, so it's not available in another notebook.\n",
    "if you detach the notebook from the cluster and reattach it, this view is not going to be available."
   ]
  },
  {
   "cell_type": "code",
   "execution_count": 1,
   "id": "261c0521",
   "metadata": {},
   "outputs": [],
   "source": [
    "import findspark\n",
    "findspark.init()\n",
    "import pyspark\n",
    "from pyspark import SparkContext, SparkConf\n",
    "from pyspark.sql import SparkSession\n",
    "conf = SparkConf().setAppName('view').setMaster('local')\n",
    "sc = SparkContext(conf = conf)\n",
    "spark = SparkSession(sc)"
   ]
  },
  {
   "cell_type": "code",
   "execution_count": 4,
   "id": "2c137727",
   "metadata": {},
   "outputs": [
    {
     "name": "stdout",
     "output_type": "stream",
     "text": [
      "+---------+-----------------+-------------------+----------------+--------------+-------------+------------------+-------+----+-----------+---------+------+--------+\n",
      "|race_year|        race_name|          race_date|circuit_location|   driver_name|driver_number|driver_nationality|   team|grid|fastest_lap|race_time|points|position|\n",
      "+---------+-----------------+-------------------+----------------+--------------+-------------+------------------+-------+----+-----------+---------+------+--------+\n",
      "|     1974|German Grand Prix|1974-08-04 00:00:00|         Nürburg|Clay Regazzoni|         null|             Swiss|Ferrari|   2|       null|1:41:35.0|   9.0|       1|\n",
      "|     1974|German Grand Prix|1974-08-04 00:00:00|         Nürburg|Jody Scheckter|         null|     South African|Tyrrell|   4|       null|    +50.7|   6.0|       2|\n",
      "+---------+-----------------+-------------------+----------------+--------------+-------------+------------------+-------+----+-----------+---------+------+--------+\n",
      "only showing top 2 rows\n",
      "\n"
     ]
    }
   ],
   "source": [
    "race_result_df = spark.read.parquet(r'E:\\unused\\Udemy\\Formula1_Project_Solutions\\Formula1_Project_Solutions\\raw\\raw\\presentation\\race_result')\n",
    "race_result_df.show(2)"
   ]
  },
  {
   "cell_type": "code",
   "execution_count": 5,
   "id": "ad79765d",
   "metadata": {},
   "outputs": [
    {
     "name": "stdout",
     "output_type": "stream",
     "text": [
      "+---------+------------------+-------------------+----------------+---------------+-------------+------------------+--------+----+-----------+-----------+------+--------+\n",
      "|race_year|         race_name|          race_date|circuit_location|    driver_name|driver_number|driver_nationality|    team|grid|fastest_lap|  race_time|points|position|\n",
      "+---------+------------------+-------------------+----------------+---------------+-------------+------------------+--------+----+-----------+-----------+------+--------+\n",
      "|     2020|Russian Grand Prix|2020-09-27 00:00:00|           Sochi|Valtteri Bottas|           77|           Finnish|Mercedes|   3|         51|1:34:00.364|  26.0|       1|\n",
      "|     2020|Russian Grand Prix|2020-09-27 00:00:00|           Sochi| Max Verstappen|           33|             Dutch|Red Bull|   2|         53|     +7.729|  18.0|       2|\n",
      "+---------+------------------+-------------------+----------------+---------------+-------------+------------------+--------+----+-----------+-----------+------+--------+\n",
      "only showing top 2 rows\n",
      "\n"
     ]
    }
   ],
   "source": [
    "# race_result_df.createTempView('vw_race_result')\n",
    "race_result_df.createOrReplaceTempView('vw_race_result')\n",
    "df = spark.sql('SELECT * FROM vw_race_result WHERE race_year = 2020')\n",
    "df.show(2)"
   ]
  },
  {
   "cell_type": "code",
   "execution_count": 10,
   "id": "86c35bb0",
   "metadata": {},
   "outputs": [
    {
     "name": "stdout",
     "output_type": "stream",
     "text": [
      "+---------+------------------+-------------------+----------------+---------------+-------------+------------------+--------+----+-----------+-----------+------+--------+\n",
      "|race_year|         race_name|          race_date|circuit_location|    driver_name|driver_number|driver_nationality|    team|grid|fastest_lap|  race_time|points|position|\n",
      "+---------+------------------+-------------------+----------------+---------------+-------------+------------------+--------+----+-----------+-----------+------+--------+\n",
      "|     2020|Russian Grand Prix|2020-09-27 00:00:00|           Sochi|Valtteri Bottas|           77|           Finnish|Mercedes|   3|         51|1:34:00.364|  26.0|       1|\n",
      "|     2020|Russian Grand Prix|2020-09-27 00:00:00|           Sochi| Max Verstappen|           33|             Dutch|Red Bull|   2|         53|     +7.729|  18.0|       2|\n",
      "+---------+------------------+-------------------+----------------+---------------+-------------+------------------+--------+----+-----------+-----------+------+--------+\n",
      "only showing top 2 rows\n",
      "\n"
     ]
    }
   ],
   "source": [
    "race_result_df.createOrReplaceGlobalTempView('gvw_race_result')\n",
    "# df = spark.sql('SELECT * FROM gvw_race_result WHERE race_year = 2020')\n",
    "#when the above statement is excecuted it sows an error msg \"Table or view not found\"\n",
    "# when global views are created it is stored under global_temp database\n",
    "df = spark.sql('SELECT * FROM global_temp.gvw_race_result WHERE race_year = 2020')\n",
    "df.show(2)"
   ]
  },
  {
   "cell_type": "code",
   "execution_count": null,
   "id": "782ec0ea",
   "metadata": {},
   "outputs": [],
   "source": []
  }
 ],
 "metadata": {
  "kernelspec": {
   "display_name": "Python 3 (ipykernel)",
   "language": "python",
   "name": "python3"
  },
  "language_info": {
   "codemirror_mode": {
    "name": "ipython",
    "version": 3
   },
   "file_extension": ".py",
   "mimetype": "text/x-python",
   "name": "python",
   "nbconvert_exporter": "python",
   "pygments_lexer": "ipython3",
   "version": "3.8.18"
  }
 },
 "nbformat": 4,
 "nbformat_minor": 5
}
