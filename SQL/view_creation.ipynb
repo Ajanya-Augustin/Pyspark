{
 "cells": [
  {
   "cell_type": "code",
   "execution_count": 1,
   "id": "109dac45",
   "metadata": {},
   "outputs": [],
   "source": [
    "import findspark\n",
    "findspark.init()\n",
    "import pyspark\n",
    "from pyspark import SparkContext, SparkConf\n",
    "from pyspark.sql import SparkSession\n",
    "conf = SparkConf().setMaster('local')\n",
    "sc = SparkContext(conf = conf)\n",
    "# spark = SparkSession(sc)\n",
    "spark = SparkSession.builder \\\n",
    "    .appName(\"view_creation\") \\\n",
    "    .config(\"spark.sql.catalogImplementation\", \"hive\") \\\n",
    "    .getOrCreate()"
   ]
  },
  {
   "cell_type": "code",
   "execution_count": 2,
   "id": "e588d882",
   "metadata": {},
   "outputs": [
    {
     "data": {
      "text/plain": [
       "DataFrame[]"
      ]
     },
     "execution_count": 2,
     "metadata": {},
     "output_type": "execute_result"
    }
   ],
   "source": [
    "spark.sql('CREATE OR REPLACE TEMP VIEW vw_temp AS SELECT * FROM demo.race_result_tb_py')\n",
    "# It is not allowed to add database prefix `demo` for the TEMPORARY view name"
   ]
  },
  {
   "cell_type": "code",
   "execution_count": 3,
   "id": "831f9e42",
   "metadata": {},
   "outputs": [
    {
     "data": {
      "text/plain": [
       "DataFrame[]"
      ]
     },
     "execution_count": 3,
     "metadata": {},
     "output_type": "execute_result"
    }
   ],
   "source": [
    "spark.sql('CREATE OR REPLACE GLOBAL TEMPORARY VIEW vw_temp_global AS SELECT * FROM demo.race_result_tb_py')\n",
    "#created in a database called global_temp database\n",
    "#global temporary views do not have a physical storage location because they are not intended for persistent storage"
   ]
  },
  {
   "cell_type": "code",
   "execution_count": 2,
   "id": "ec642e4c",
   "metadata": {},
   "outputs": [
    {
     "data": {
      "text/plain": [
       "DataFrame[]"
      ]
     },
     "execution_count": 2,
     "metadata": {},
     "output_type": "execute_result"
    }
   ],
   "source": [
    "spark.sql('CREATE OR REPLACE VIEW demo.vw_permanent AS SELECT * FROM demo.race_result_tb_py')"
   ]
  },
  {
   "cell_type": "code",
   "execution_count": 5,
   "id": "8c685ca2",
   "metadata": {},
   "outputs": [
    {
     "name": "stdout",
     "output_type": "stream",
     "text": [
      "+---------+---------------------+-----------+\n",
      "|namespace|tableName            |isTemporary|\n",
      "+---------+---------------------+-----------+\n",
      "|demo     |race_result_tb_py    |false      |\n",
      "|demo     |race_result_tb_py_ext|false      |\n",
      "|demo     |vw_permanent         |false      |\n",
      "|         |vw_temp              |true       |\n",
      "+---------+---------------------+-----------+\n",
      "\n"
     ]
    }
   ],
   "source": [
    "spark.sql('SHOW TABLES IN demo').show(truncate=False)"
   ]
  },
  {
   "cell_type": "code",
   "execution_count": 6,
   "id": "49bc4a45",
   "metadata": {},
   "outputs": [
    {
     "name": "stdout",
     "output_type": "stream",
     "text": [
      "+---------+---------+-----------+\n",
      "|namespace|tableName|isTemporary|\n",
      "+---------+---------+-----------+\n",
      "|         |  vw_temp|       true|\n",
      "+---------+---------+-----------+\n",
      "\n"
     ]
    }
   ],
   "source": [
    "spark.sql('SHOW TABLES IN default').show()"
   ]
  },
  {
   "cell_type": "code",
   "execution_count": 7,
   "id": "de60de93",
   "metadata": {
    "scrolled": true
   },
   "outputs": [
    {
     "name": "stdout",
     "output_type": "stream",
     "text": [
      "+-----------+--------------+-----------+\n",
      "|  namespace|     tableName|isTemporary|\n",
      "+-----------+--------------+-----------+\n",
      "|global_temp|vw_temp_global|       true|\n",
      "|           |       vw_temp|       true|\n",
      "+-----------+--------------+-----------+\n",
      "\n"
     ]
    }
   ],
   "source": [
    "spark.sql('SHOW TABLES IN global_temp').show()"
   ]
  },
  {
   "cell_type": "code",
   "execution_count": null,
   "id": "d3826762",
   "metadata": {},
   "outputs": [],
   "source": [
    "spark.sql('DRoP DATABASE f1_raw CASCADE')"
   ]
  }
 ],
 "metadata": {
  "kernelspec": {
   "display_name": "Python 3 (ipykernel)",
   "language": "python",
   "name": "python3"
  },
  "language_info": {
   "codemirror_mode": {
    "name": "ipython",
    "version": 3
   },
   "file_extension": ".py",
   "mimetype": "text/x-python",
   "name": "python",
   "nbconvert_exporter": "python",
   "pygments_lexer": "ipython3",
   "version": "3.8.18"
  }
 },
 "nbformat": 4,
 "nbformat_minor": 5
}
