{
 "cells": [
  {
   "cell_type": "markdown",
   "id": "00e49008",
   "metadata": {},
   "source": [
    "* raw_ingestion : creating tables with raw data.(If SQL analyst needs raw tables for analysis)\n",
    "                (table loaded as internal table in f1_raw database)\n",
    "                \n",
    "* ingestion     : Folder with ingestion of each table with neccessary processing \n",
    "                (table loaded as external table in f1_process database)\n",
    "               \n",
    "* sql_introduction: Basics of SQL\n",
    "                 \n",
    "* spark_processed: folder to store data and databases\n",
    " \n",
    "* presentation_sql: folder to store notebooks for tarnsformed data\n",
    "\n",
    "* Spark Warehouse: When you create a database or tables in Spark, \n",
    "                 it uses a default Hive Warehouse directory to store the metadata. \n",
    "                 By default, this location is set to spark-warehouse in the current working directory where \n",
    "                 your Spark application is running"
   ]
  },
  {
   "cell_type": "code",
   "execution_count": null,
   "id": "3a846faf",
   "metadata": {},
   "outputs": [],
   "source": []
  }
 ],
 "metadata": {
  "kernelspec": {
   "display_name": "Python 3 (ipykernel)",
   "language": "python",
   "name": "python3"
  },
  "language_info": {
   "codemirror_mode": {
    "name": "ipython",
    "version": 3
   },
   "file_extension": ".py",
   "mimetype": "text/x-python",
   "name": "python",
   "nbconvert_exporter": "python",
   "pygments_lexer": "ipython3",
   "version": "3.8.18"
  }
 },
 "nbformat": 4,
 "nbformat_minor": 5
}
