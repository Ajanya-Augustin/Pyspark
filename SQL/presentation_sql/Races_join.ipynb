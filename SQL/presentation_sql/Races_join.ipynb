{
 "cells": [
  {
   "cell_type": "markdown",
   "id": "43276131",
   "metadata": {},
   "source": [
    "<div style=\"max-width:1400px;margin-center: auto\">\n",
    "<img src=\"images\\race join.png\" width=\"600\"/>\n",
    "</div>"
   ]
  },
  {
   "cell_type": "code",
   "execution_count": 1,
   "id": "a220f665",
   "metadata": {},
   "outputs": [],
   "source": [
    "import findspark\n",
    "findspark.init()\n",
    "import pyspark\n",
    "from pyspark import SparkContext, SparkConf\n",
    "from pyspark.sql import SparkSession\n",
    "spark = SparkSession.builder.master('local') \\\n",
    "    .appName(\"race_join\") \\\n",
    "    .config(\"spark.sql.catalogImplementation\", \"hive\") \\\n",
    "    .getOrCreate()"
   ]
  },
  {
   "cell_type": "code",
   "execution_count": 2,
   "id": "c327ec98",
   "metadata": {},
   "outputs": [
    {
     "name": "stdout",
     "output_type": "stream",
     "text": [
      "+------+---------+-----+---------+--------------------+-------------------+--------+--------------------+\n",
      "|raceId|race_year|round|circuitId|           race_name|          race_date|    time|                 url|\n",
      "+------+---------+-----+---------+--------------------+-------------------+--------+--------------------+\n",
      "|     1|     2009|    1|        1|Australian Grand ...|2009-03-29 00:00:00|06:00:00|http://en.wikiped...|\n",
      "|     2|     2009|    2|        2|Malaysian Grand Prix|2009-04-05 00:00:00|09:00:00|http://en.wikiped...|\n",
      "+------+---------+-----+---------+--------------------+-------------------+--------+--------------------+\n",
      "only showing top 2 rows\n",
      "\n",
      "+--------------+---------------+----------+-----------+--------------------+\n",
      "|constructor_id|constructor_ref|      team|nationality|      ingestion_date|\n",
      "+--------------+---------------+----------+-----------+--------------------+\n",
      "|             1|           null|   McLaren|    British|2023-12-31 16:08:...|\n",
      "|             2|           null|BMW Sauber|     German|2023-12-31 16:08:...|\n",
      "+--------------+---------------+----------+-----------+--------------------+\n",
      "only showing top 2 rows\n",
      "\n",
      "+---------+----------+-------------+----+--------------+----------+------------------+--------------------+\n",
      "|driver_id|driver_ref|driver_number|code|   driver_name|       dob|driver_nationality|      Ingestion_date|\n",
      "+---------+----------+-------------+----+--------------+----------+------------------+--------------------+\n",
      "|        1|  hamilton|           44| HAM|Lewis Hamilton|1985-01-07|           British|2024-01-01 11:34:...|\n",
      "|        2|  heidfeld|         null| HEI| Nick Heidfeld|1977-05-10|            German|2024-01-01 11:34:...|\n",
      "+---------+----------+-------------+----+--------------+----------+------------------+--------------------+\n",
      "only showing top 2 rows\n",
      "\n",
      "+----------+-----------+--------------------+----------------+---------+--------+---------+--------+\n",
      "|circuit_id|circuit_ref|                name|circuit_location|  country|latitude|longitude|altitude|\n",
      "+----------+-----------+--------------------+----------------+---------+--------+---------+--------+\n",
      "|         1|albert_park|Albert Park Grand...|       Melbourne|Australia|-37.8497|  144.968|      10|\n",
      "|         2|     sepang|Sepang Internatio...|    Kuala Lumpur| Malaysia| 2.76083|  101.738|      18|\n",
      "+----------+-----------+--------------------+----------------+---------+--------+---------+--------+\n",
      "only showing top 2 rows\n",
      "\n",
      "+---------+---------+--------------+------+----+--------+-------------+--------------+------+----+----------+------------+-----------+----+----------------+-----------------+--------------------+-------+\n",
      "|result_id|driver_id|constructor_id|number|grid|position|position_text|position_order|points|laps| race_time|milliseconds|fastest_lap|rank|fastest_lap_time|fastest_lap_speed|      ingestion_date|race_id|\n",
      "+---------+---------+--------------+------+----+--------+-------------+--------------+------+----+----------+------------+-----------+----+----------------+-----------------+--------------------+-------+\n",
      "|    19232|      657|           113|    14|  19|       1|            1|             1|   8.0| 200|3:49:17.27|    13757270|       null|null|              \\N|             null|2024-01-01 12:55:...|    800|\n",
      "|    19233|      525|           114|     9|   3|       2|            2|             2|   6.0| 200|  +1:09.95|    13827220|       null|null|              \\N|             null|2024-01-01 12:55:...|    800|\n",
      "+---------+---------+--------------+------+----+--------+-------------+--------------+------+----+----------+------------+-----------+----+----------------+-----------------+--------------------+-------+\n",
      "only showing top 2 rows\n",
      "\n"
     ]
    }
   ],
   "source": [
    "races_df = spark.read.csv(r'E:\\unused\\Udemy\\Spark_practice\\raw\\raw_files\\races.csv', header =True, inferSchema =True).\\\n",
    "            withColumnRenamed('year','race_year').\\\n",
    "            withColumnRenamed('name','race_name').\\\n",
    "            withColumnRenamed('date','race_date')\n",
    "constructors_df = spark.read.parquet(r'E:\\unused\\Udemy\\Spark_practice\\raw\\processed\\constructors').\\\n",
    "            withColumnRenamed('name','team')\n",
    "drivers_df = spark.read.parquet(r'E:\\unused\\Udemy\\Spark_practice\\raw\\processed\\drivers').\\\n",
    "            withColumnRenamed('name','driver_name').\\\n",
    "            withColumnRenamed('number','driver_number').\\\n",
    "            withColumnRenamed('nationality','driver_nationality')\n",
    "circuit_df = spark.read.parquet(r'E:\\unused\\Udemy\\Spark_practice\\raw\\processed\\circuit').\\\n",
    "                    withColumnRenamed('location','circuit_location')\n",
    "results_df = spark.read.parquet(r'E:\\unused\\Udemy\\Spark_practice\\raw\\processed\\results').\\\n",
    "            withColumnRenamed('time','race_time')\n",
    "races_df.show(2)\n",
    "constructors_df.show(2)\n",
    "drivers_df.show(2)\n",
    "circuit_df.show(2)\n",
    "results_df.show(2)"
   ]
  },
  {
   "cell_type": "code",
   "execution_count": 3,
   "id": "56b31fb9",
   "metadata": {},
   "outputs": [
    {
     "name": "stdout",
     "output_type": "stream",
     "text": [
      "+---------+----------------+-------------------+----------------+-------------+-------------+------------------+------------+----+-----------+----------+------+--------+\n",
      "|race_year|       race_name|          race_date|circuit_location|  driver_name|driver_number|driver_nationality|        team|grid|fastest_lap| race_time|points|position|\n",
      "+---------+----------------+-------------------+----------------+-------------+-------------+------------------+------------+----+-----------+----------+------+--------+\n",
      "|     1954|Indianapolis 500|1954-05-31 00:00:00|    Indianapolis|Bill Vukovich|         null|          American|Kurtis Kraft|  19|       null|3:49:17.27|   8.0|       1|\n",
      "|     1954|Indianapolis 500|1954-05-31 00:00:00|    Indianapolis|  Jimmy Bryan|         null|          American|       Kuzma|   3|       null|  +1:09.95|   6.0|       2|\n",
      "+---------+----------------+-------------------+----------------+-------------+-------------+------------------+------------+----+-----------+----------+------+--------+\n",
      "only showing top 2 rows\n",
      "\n"
     ]
    }
   ],
   "source": [
    "fnl_df = results_df.join(constructors_df, results_df.constructor_id == constructors_df.constructor_id,'inner').\\\n",
    "        join(drivers_df,results_df.driver_id == drivers_df.driver_id,'inner').\\\n",
    "        join(races_df,results_df.race_id == races_df.raceId,'inner').\\\n",
    "        join(circuit_df,races_df.circuitId == circuit_df.circuit_id,'inner').\\\n",
    "        select(races_df.race_year,\n",
    "               races_df.race_name,\n",
    "               races_df.race_date,\n",
    "               circuit_df.circuit_location,\n",
    "               drivers_df.driver_name,\n",
    "               drivers_df.driver_number,\n",
    "               drivers_df.driver_nationality,\n",
    "               constructors_df.team,\n",
    "               results_df.grid,\n",
    "               results_df.fastest_lap,\n",
    "               results_df.race_time,\n",
    "               results_df.points,\n",
    "              results_df.position)\n",
    "fnl_df.show(2)"
   ]
  },
  {
   "cell_type": "code",
   "execution_count": 4,
   "id": "38c09088",
   "metadata": {},
   "outputs": [
    {
     "name": "stdout",
     "output_type": "stream",
     "text": [
      "+---------+--------------------+-------------------+----------------+---------------+-------------+------------------+--------+----+-----------+-----------+------+--------+\n",
      "|race_year|           race_name|          race_date|circuit_location|    driver_name|driver_number|driver_nationality|    team|grid|fastest_lap|  race_time|points|position|\n",
      "+---------+--------------------+-------------------+----------------+---------------+-------------+------------------+--------+----+-----------+-----------+------+--------+\n",
      "|     2020|Abu Dhabi Grand Prix|2020-12-13 00:00:00|       Abu Dhabi| Max Verstappen|           33|             Dutch|Red Bull|   1|         14|1:36:28.645|  25.0|       1|\n",
      "|     2020|Abu Dhabi Grand Prix|2020-12-13 00:00:00|       Abu Dhabi|Valtteri Bottas|           77|           Finnish|Mercedes|   2|         40|    +15.976|  18.0|       2|\n",
      "|     2020|Abu Dhabi Grand Prix|2020-12-13 00:00:00|       Abu Dhabi| Lewis Hamilton|           44|           British|Mercedes|   3|         37|    +18.415|  15.0|       3|\n",
      "|     2020|Abu Dhabi Grand Prix|2020-12-13 00:00:00|       Abu Dhabi|Alexander Albon|           23|              Thai|Red Bull|   5|         42|    +19.987|  12.0|       4|\n",
      "|     2020|Abu Dhabi Grand Prix|2020-12-13 00:00:00|       Abu Dhabi|   Lando Norris|            4|           British| McLaren|   4|         53|  +1:00.729|  10.0|       5|\n",
      "+---------+--------------------+-------------------+----------------+---------------+-------------+------------------+--------+----+-----------+-----------+------+--------+\n",
      "only showing top 5 rows\n",
      "\n"
     ]
    }
   ],
   "source": [
    "filtered = fnl_df.filter(\"race_year == 2020 and race_name == 'Abu Dhabi Grand Prix'\").\\\n",
    "                orderBy(fnl_df.points.desc())\n",
    "filtered.show(5)"
   ]
  },
  {
   "cell_type": "code",
   "execution_count": 5,
   "id": "c9506fe1",
   "metadata": {},
   "outputs": [],
   "source": [
    "fnl_df.write.format('parquet').saveAsTable('f1_presentation.race_result')"
   ]
  }
 ],
 "metadata": {
  "kernelspec": {
   "display_name": "Python 3 (ipykernel)",
   "language": "python",
   "name": "python3"
  },
  "language_info": {
   "codemirror_mode": {
    "name": "ipython",
    "version": 3
   },
   "file_extension": ".py",
   "mimetype": "text/x-python",
   "name": "python",
   "nbconvert_exporter": "python",
   "pygments_lexer": "ipython3",
   "version": "3.8.18"
  }
 },
 "nbformat": 4,
 "nbformat_minor": 5
}
