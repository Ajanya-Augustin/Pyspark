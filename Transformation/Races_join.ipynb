{
 "cells": [
  {
   "cell_type": "markdown",
   "id": "43276131",
   "metadata": {},
   "source": [
    "<div style=\"max-width:1400px;margin-center: auto\">\n",
    "<img src=\"images\\race join.png\" width=\"600\"/>\n",
    "</div>"
   ]
  },
  {
   "cell_type": "code",
   "execution_count": 1,
   "id": "a220f665",
   "metadata": {},
   "outputs": [],
   "source": [
    "import findspark\n",
    "findspark.init()\n",
    "import pyspark\n",
    "from pyspark import SparkConf, SparkContext\n",
    "from pyspark.sql import SparkSession\n",
    "conf = SparkConf().setAppName('race_join').setMaster('local')\n",
    "sc = SparkContext(conf=conf)\n",
    "spark = SparkSession(sc)"
   ]
  },
  {
   "cell_type": "code",
   "execution_count": 2,
   "id": "c327ec98",
   "metadata": {},
   "outputs": [],
   "source": [
    "races_df = spark.read.csv(r'E:\\unused\\Udemy\\Spark_practice\\raw\\raw_files\\races.csv', header =True, inferSchema =True).\\\n",
    "            withColumnRenamed('year','race_year').\\\n",
    "            withColumnRenamed('name','race_name').\\\n",
    "            withColumnRenamed('date','race_date')\n",
    "constructors_df = spark.read.parquet(r'E:\\unused\\Udemy\\Spark_practice\\raw\\processed\\constructors').\\\n",
    "            withColumnRenamed('name','team')\n",
    "drivers_df = spark.read.parquet(r'E:\\unused\\Udemy\\Spark_practice\\raw\\processed\\drivers').\\\n",
    "            withColumnRenamed('name','driver_name').\\\n",
    "            withColumnRenamed('number','driver_number').\\\n",
    "            withColumnRenamed('nationality','driver_nationality')\n",
    "circuit_df = spark.read.parquet(r'E:\\unused\\Udemy\\Spark_practice\\raw\\processed\\circuit').\\\n",
    "                    withColumnRenamed('location','circuit_location')\n",
    "results_df = spark.read.parquet(r'E:\\unused\\Udemy\\Spark_practice\\raw\\processed\\results').\\\n",
    "            withColumnRenamed('time','race_time')\n",
    "races_df.show(2)\n",
    "constructors_df.show(2)\n",
    "drivers_df.show(2)\n",
    "circuit_df.show(2)\n",
    "results_df.show(2)"
   ]
  },
  {
   "cell_type": "code",
   "execution_count": 3,
   "id": "56b31fb9",
   "metadata": {},
   "outputs": [],
   "source": [
    "fnl_df = results_df.join(constructors_df, results_df.constructor_id == constructors_df.constructor_id,'inner').\\\n",
    "        join(drivers_df,results_df.driver_id == drivers_df.driver_id,'inner').\\\n",
    "        join(races_df,results_df.race_id == races_df.raceId,'inner').\\\n",
    "        join(circuit_df,races_df.circuitId == circuit_df.circuit_id,'inner').\\\n",
    "        select(races_df.race_year,\n",
    "               races_df.race_name,\n",
    "               races_df.race_date,\n",
    "               circuit_df.circuit_location,\n",
    "               drivers_df.driver_name,\n",
    "               drivers_df.driver_number,\n",
    "               drivers_df.driver_nationality,\n",
    "               constructors_df.team,\n",
    "               results_df.grid,\n",
    "               results_df.fastest_lap,\n",
    "               results_df.race_time,\n",
    "               results_df.points,\n",
    "              results_df.position)\n",
    "fnl_df.show(2)"
   ]
  },
  {
   "cell_type": "code",
   "execution_count": 4,
   "id": "38c09088",
   "metadata": {},
   "outputs": [],
   "source": [
    "filtered = fnl_df.filter(\"race_year == 2020 and race_name == 'Abu Dhabi Grand Prix'\").\\\n",
    "                orderBy(fnl_df.points.desc())\n",
    "filtered.show(5)"
   ]
  },
  {
   "cell_type": "code",
   "execution_count": 5,
   "id": "c9506fe1",
   "metadata": {},
   "outputs": [],
   "source": [
    "fnl_df.write.parquet('presentation/race_result')"
   ]
  },
  {
   "cell_type": "code",
   "execution_count": null,
   "id": "26671767",
   "metadata": {},
   "outputs": [],
   "source": []
  }
 ],
 "metadata": {
  "kernelspec": {
   "display_name": "Python 3 (ipykernel)",
   "language": "python",
   "name": "python3"
  },
  "language_info": {
   "codemirror_mode": {
    "name": "ipython",
    "version": 3
   },
   "file_extension": ".py",
   "mimetype": "text/x-python",
   "name": "python",
   "nbconvert_exporter": "python",
   "pygments_lexer": "ipython3",
   "version": "3.8.18"
  }
 },
 "nbformat": 4,
 "nbformat_minor": 5
}
