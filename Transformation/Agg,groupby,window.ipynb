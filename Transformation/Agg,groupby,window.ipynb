{
 "cells": [
  {
   "cell_type": "code",
   "execution_count": 1,
   "id": "aadfcacf",
   "metadata": {},
   "outputs": [],
   "source": [
    "import findspark\n",
    "findspark.init()\n",
    "import pyspark\n",
    "from pyspark import SparkContext, SparkConf\n",
    "from pyspark.sql import SparkSession\n",
    "conf = SparkConf().setAppName(\"aggregate\").setMaster('local')\n",
    "sc = SparkContext(conf=conf)\n",
    "spark = SparkSession(sc)"
   ]
  },
  {
   "cell_type": "code",
   "execution_count": 2,
   "id": "5a967390",
   "metadata": {},
   "outputs": [
    {
     "name": "stdout",
     "output_type": "stream",
     "text": [
      "+---------+-----------------+-------------------+----------------+--------------+-------------+------------------+-------+----+-----------+---------+------+\n",
      "|race_year|        race_name|          race_date|circuit_location|   driver_name|driver_number|driver_nationality|   team|grid|fastest_lap|race_time|points|\n",
      "+---------+-----------------+-------------------+----------------+--------------+-------------+------------------+-------+----+-----------+---------+------+\n",
      "|     1974|German Grand Prix|1974-08-04 00:00:00|         Nürburg|Clay Regazzoni|         null|             Swiss|Ferrari|   2|       null|1:41:35.0|   9.0|\n",
      "|     1974|German Grand Prix|1974-08-04 00:00:00|         Nürburg|Jody Scheckter|         null|     South African|Tyrrell|   4|       null|    +50.7|   6.0|\n",
      "+---------+-----------------+-------------------+----------------+--------------+-------------+------------------+-------+----+-----------+---------+------+\n",
      "only showing top 2 rows\n",
      "\n"
     ]
    }
   ],
   "source": [
    "race_df = spark.read.parquet('presentation/race_result')\n",
    "race_df.show(2)"
   ]
  },
  {
   "cell_type": "code",
   "execution_count": 3,
   "id": "acf78ca8",
   "metadata": {},
   "outputs": [],
   "source": [
    "from pyspark.sql.functions import count, countDistinct, sum, max"
   ]
  },
  {
   "cell_type": "code",
   "execution_count": 4,
   "id": "69a696be",
   "metadata": {},
   "outputs": [
    {
     "name": "stdout",
     "output_type": "stream",
     "text": [
      "+-----------+-------------------------+-------------------+-----------+\n",
      "|Total Count|no. of races participated|total points earned|fastest lap|\n",
      "+-----------+-------------------------+-------------------+-----------+\n",
      "|         16|                       16|              347.0|         70|\n",
      "+-----------+-------------------------+-------------------+-----------+\n",
      "\n"
     ]
    }
   ],
   "source": [
    "filtered_df = race_df.filter('race_year = 2020').filter('driver_name = \"Lewis Hamilton\"').\\\n",
    "                    select(count(\"*\").alias('Total Count'), \n",
    "                            countDistinct('race_name').alias('no. of races participated'),\n",
    "                           sum('points').alias('total points earned'),\n",
    "                          max('fastest_lap').alias('fastest lap'))\n",
    "# filtered_df = filtered_df.filter('driver_name = Lewis Hamilton')\n",
    "filtered_df.show(2)"
   ]
  },
  {
   "cell_type": "markdown",
   "id": "a1acbaff",
   "metadata": {},
   "source": [
    "### Group By"
   ]
  },
  {
   "cell_type": "code",
   "execution_count": 5,
   "id": "fb089edd",
   "metadata": {},
   "outputs": [
    {
     "name": "stdout",
     "output_type": "stream",
     "text": [
      "+------------------+-----------+-------------------------+-------------------+-----------+\n",
      "|       driver_name|Total Count|no. of races participated|total points earned|fastest lap|\n",
      "+------------------+-----------+-------------------------+-------------------+-----------+\n",
      "|Piercarlo Ghinzani|        111|                       23|                2.0|       null|\n",
      "|    Richie Ginther|         54|                       11|              107.0|       null|\n",
      "+------------------+-----------+-------------------------+-------------------+-----------+\n",
      "only showing top 2 rows\n",
      "\n"
     ]
    }
   ],
   "source": [
    "race_df.groupBy(\"driver_name\").\\\n",
    "        agg(count(\"*\").alias('Total Count'), \n",
    "            countDistinct('race_name').alias('no. of races participated'),\n",
    "            sum('points').alias('total points earned'),\n",
    "            max('fastest_lap').alias('fastest lap')).show(2)"
   ]
  },
  {
   "cell_type": "markdown",
   "id": "b37d755b",
   "metadata": {},
   "source": [
    "### Window Function"
   ]
  },
  {
   "cell_type": "code",
   "execution_count": 14,
   "id": "db03bc92",
   "metadata": {},
   "outputs": [],
   "source": [
    "df = race_df.filter('race_year in (2019,2020)').groupBy(\"race_year\",\"driver_name\").\\\n",
    "        agg(countDistinct('race_name').alias('no. of races participated'),\n",
    "            sum('points').alias('total points earned'),\n",
    "            max('fastest_lap').alias('fastest lap'))"
   ]
  },
  {
   "cell_type": "code",
   "execution_count": 15,
   "id": "6ddccb1c",
   "metadata": {},
   "outputs": [],
   "source": [
    "from pyspark.sql.window import Window\n",
    "from pyspark.sql.functions import rank, desc"
   ]
  },
  {
   "cell_type": "code",
   "execution_count": 18,
   "id": "edaa3ad0",
   "metadata": {},
   "outputs": [],
   "source": [
    "driverRankSpec = Window.partitionBy('race_year').orderBy(desc('total points earned'))"
   ]
  },
  {
   "cell_type": "code",
   "execution_count": 19,
   "id": "43d891af",
   "metadata": {},
   "outputs": [
    {
     "name": "stdout",
     "output_type": "stream",
     "text": [
      "+---------+----------------+-------------------------+-------------------+-----------+----+\n",
      "|race_year|     driver_name|no. of races participated|total points earned|fastest lap|rank|\n",
      "+---------+----------------+-------------------------+-------------------+-----------+----+\n",
      "|     2019|  Lewis Hamilton|                       21|              413.0|         69|   1|\n",
      "|     2019| Valtteri Bottas|                       21|              326.0|         69|   2|\n",
      "|     2019|  Max Verstappen|                       21|              278.0|         69|   3|\n",
      "|     2019| Charles Leclerc|                       21|              264.0|         63|   4|\n",
      "|     2019|Sebastian Vettel|                       21|              240.0|         68|   5|\n",
      "+---------+----------------+-------------------------+-------------------+-----------+----+\n",
      "only showing top 5 rows\n",
      "\n"
     ]
    }
   ],
   "source": [
    "fnl_df = df.withColumn(\"rank\",rank().over(driverRankSpec)).show(5)"
   ]
  },
  {
   "cell_type": "code",
   "execution_count": null,
   "id": "35e66909",
   "metadata": {},
   "outputs": [],
   "source": []
  }
 ],
 "metadata": {
  "kernelspec": {
   "display_name": "Python 3 (ipykernel)",
   "language": "python",
   "name": "python3"
  },
  "language_info": {
   "codemirror_mode": {
    "name": "ipython",
    "version": 3
   },
   "file_extension": ".py",
   "mimetype": "text/x-python",
   "name": "python",
   "nbconvert_exporter": "python",
   "pygments_lexer": "ipython3",
   "version": "3.8.18"
  }
 },
 "nbformat": 4,
 "nbformat_minor": 5
}
