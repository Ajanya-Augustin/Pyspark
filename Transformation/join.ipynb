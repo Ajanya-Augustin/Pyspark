{
 "cells": [
  {
   "cell_type": "code",
   "execution_count": 1,
   "id": "57413907",
   "metadata": {},
   "outputs": [],
   "source": [
    "import findspark\n",
    "findspark.init()\n",
    "import pyspark\n",
    "from pyspark import SparkContext , SparkConf\n",
    "from pyspark.sql import SparkSession\n",
    "conf = SparkConf().setAppName('join').setMaster('local')\n",
    "sc = SparkContext(conf = conf)\n",
    "spark = SparkSession(sc)"
   ]
  },
  {
   "cell_type": "code",
   "execution_count": 2,
   "id": "7d23679f",
   "metadata": {},
   "outputs": [
    {
     "name": "stdout",
     "output_type": "stream",
     "text": [
      "+-------+-----+----------+--------------------+-------------------+--------------------+---------+\n",
      "|race_id|round|circuit_id|           race_name|     race_timestamp|      ingestion_date|race_year|\n",
      "+-------+-----+----------+--------------------+-------------------+--------------------+---------+\n",
      "|   1010|    1|         1|Australian Grand ...|2019-03-17 05:10:00|2024-01-06 12:59:...|     2019|\n",
      "|   1011|    2|         3|  Bahrain Grand Prix|2019-03-31 15:10:00|2024-01-06 12:59:...|     2019|\n",
      "+-------+-----+----------+--------------------+-------------------+--------------------+---------+\n",
      "only showing top 2 rows\n",
      "\n"
     ]
    }
   ],
   "source": [
    "races_df = spark.read.parquet(\"processed/races\").filter(\"race_year = 2019\").\\\n",
    "                     withColumnRenamed(\"name\",\"race_name\")\n",
    "races_df.show(2)"
   ]
  },
  {
   "cell_type": "code",
   "execution_count": 3,
   "id": "1d047a45",
   "metadata": {},
   "outputs": [
    {
     "name": "stdout",
     "output_type": "stream",
     "text": [
      "+---------+-----------+--------------------+------------+---------+--------+-------+---+--------------------+\n",
      "|circuitId| circuitRef|        circuit_name|    location|  country|     lat|    lng|alt|                 url|\n",
      "+---------+-----------+--------------------+------------+---------+--------+-------+---+--------------------+\n",
      "|        1|albert_park|Albert Park Grand...|   Melbourne|Australia|-37.8497|144.968| 10|http://en.wikiped...|\n",
      "|        2|     sepang|Sepang Internatio...|Kuala Lumpur| Malaysia| 2.76083|101.738| 18|http://en.wikiped...|\n",
      "+---------+-----------+--------------------+------------+---------+--------+-------+---+--------------------+\n",
      "only showing top 2 rows\n",
      "\n"
     ]
    }
   ],
   "source": [
    "circuit_df = spark.read.parquet(\"processed/circuit\").\\\n",
    "                     withColumnRenamed(\"name\",\"circuit_name\")\n",
    "circuit_df.show(2)"
   ]
  },
  {
   "cell_type": "code",
   "execution_count": 4,
   "id": "5430bc84",
   "metadata": {},
   "outputs": [
    {
     "name": "stdout",
     "output_type": "stream",
     "text": [
      "+--------------------+---------+---------+--------------------+-----+\n",
      "|        circuit_name| location|  country|           race_name|round|\n",
      "+--------------------+---------+---------+--------------------+-----+\n",
      "|Albert Park Grand...|Melbourne|Australia|Australian Grand ...|    1|\n",
      "|Bahrain Internati...|   Sakhir|  Bahrain|  Bahrain Grand Prix|    2|\n",
      "+--------------------+---------+---------+--------------------+-----+\n",
      "only showing top 2 rows\n",
      "\n"
     ]
    }
   ],
   "source": [
    "joined_df = circuit_df.join(races_df, races_df.circuit_id == circuit_df.circuitId, \"inner\").\\\n",
    "                        select(circuit_df.circuit_name,\n",
    "                               circuit_df.location,\n",
    "                               circuit_df.country,\n",
    "                               races_df.race_name,\n",
    "                               races_df.round)\n",
    "joined_df.show(2)"
   ]
  },
  {
   "cell_type": "code",
   "execution_count": 5,
   "id": "821829b1",
   "metadata": {},
   "outputs": [
    {
     "name": "stdout",
     "output_type": "stream",
     "text": [
      "+---------+-----------+--------------------+------------+---------+--------+-------+---+--------------------+\n",
      "|circuitId| circuitRef|        circuit_name|    location|  country|     lat|    lng|alt|                 url|\n",
      "+---------+-----------+--------------------+------------+---------+--------+-------+---+--------------------+\n",
      "|        1|albert_park|Albert Park Grand...|   Melbourne|Australia|-37.8497|144.968| 10|http://en.wikiped...|\n",
      "|        2|     sepang|Sepang Internatio...|Kuala Lumpur| Malaysia| 2.76083|101.738| 18|http://en.wikiped...|\n",
      "+---------+-----------+--------------------+------------+---------+--------+-------+---+--------------------+\n",
      "only showing top 2 rows\n",
      "\n"
     ]
    }
   ],
   "source": [
    "circuit_df = spark.read.parquet(\"processed/circuit\").filter(\"circuitId < 70\").\\\n",
    "                     withColumnRenamed(\"name\",\"circuit_name\")\n",
    "circuit_df.show(2)"
   ]
  },
  {
   "cell_type": "code",
   "execution_count": 6,
   "id": "acf645b1",
   "metadata": {},
   "outputs": [
    {
     "name": "stdout",
     "output_type": "stream",
     "text": [
      "+--------------------+------------+---------+--------------------+-----+\n",
      "|        circuit_name|    location|  country|           race_name|round|\n",
      "+--------------------+------------+---------+--------------------+-----+\n",
      "|Albert Park Grand...|   Melbourne|Australia|Australian Grand ...|    1|\n",
      "|Sepang Internatio...|Kuala Lumpur| Malaysia|                null| null|\n",
      "+--------------------+------------+---------+--------------------+-----+\n",
      "only showing top 2 rows\n",
      "\n"
     ]
    },
    {
     "data": {
      "text/plain": [
       "69"
      ]
     },
     "execution_count": 6,
     "metadata": {},
     "output_type": "execute_result"
    }
   ],
   "source": [
    "joined_df = circuit_df.join(races_df, races_df.circuit_id == circuit_df.circuitId, \"leftouter\").\\\n",
    "                        select(circuit_df.circuit_name,\n",
    "                               circuit_df.location,\n",
    "                               circuit_df.country,\n",
    "                               races_df.race_name,\n",
    "                               races_df.round)#left can also be given\n",
    "joined_df.show(2)\n",
    "joined_df.count()# all circuit records present"
   ]
  },
  {
   "cell_type": "code",
   "execution_count": 7,
   "id": "bb102a3a",
   "metadata": {},
   "outputs": [
    {
     "name": "stdout",
     "output_type": "stream",
     "text": [
      "+--------------------+---------+---------+--------------------+-----+\n",
      "|        circuit_name| location|  country|           race_name|round|\n",
      "+--------------------+---------+---------+--------------------+-----+\n",
      "|Albert Park Grand...|Melbourne|Australia|Australian Grand ...|    1|\n",
      "|Bahrain Internati...|   Sakhir|  Bahrain|  Bahrain Grand Prix|    2|\n",
      "+--------------------+---------+---------+--------------------+-----+\n",
      "only showing top 2 rows\n",
      "\n"
     ]
    },
    {
     "data": {
      "text/plain": [
       "21"
      ]
     },
     "execution_count": 7,
     "metadata": {},
     "output_type": "execute_result"
    }
   ],
   "source": [
    "joined_df = circuit_df.join(races_df, races_df.circuit_id == circuit_df.circuitId, \"right\").\\\n",
    "                        select(circuit_df.circuit_name,\n",
    "                               circuit_df.location,\n",
    "                               circuit_df.country,\n",
    "                               races_df.race_name,\n",
    "                               races_df.round)#rightouter can also be given\n",
    "joined_df.show(2)\n",
    "joined_df.count()# all races records present"
   ]
  },
  {
   "cell_type": "code",
   "execution_count": 8,
   "id": "7e353125",
   "metadata": {},
   "outputs": [
    {
     "name": "stdout",
     "output_type": "stream",
     "text": [
      "+--------------------+------------+---------+--------------------+-----+\n",
      "|        circuit_name|    location|  country|           race_name|round|\n",
      "+--------------------+------------+---------+--------------------+-----+\n",
      "|Albert Park Grand...|   Melbourne|Australia|Australian Grand ...|    1|\n",
      "|Sepang Internatio...|Kuala Lumpur| Malaysia|                null| null|\n",
      "+--------------------+------------+---------+--------------------+-----+\n",
      "only showing top 2 rows\n",
      "\n"
     ]
    },
    {
     "data": {
      "text/plain": [
       "72"
      ]
     },
     "execution_count": 8,
     "metadata": {},
     "output_type": "execute_result"
    }
   ],
   "source": [
    "joined_df = circuit_df.join(races_df, races_df.circuit_id == circuit_df.circuitId, \"full\").\\\n",
    "                        select(circuit_df.circuit_name,\n",
    "                               circuit_df.location,\n",
    "                               circuit_df.country,\n",
    "                               races_df.race_name,\n",
    "                               races_df.round)#fullouter can also be given\n",
    "joined_df.show(2)\n",
    "joined_df.count()# records in both df present with null populated for records which didn't match"
   ]
  },
  {
   "cell_type": "code",
   "execution_count": 9,
   "id": "9998dd1c",
   "metadata": {},
   "outputs": [
    {
     "name": "stdout",
     "output_type": "stream",
     "text": [
      "+--------------------+---------+---------+\n",
      "|        circuit_name| location|  country|\n",
      "+--------------------+---------+---------+\n",
      "|Albert Park Grand...|Melbourne|Australia|\n",
      "|Bahrain Internati...|   Sakhir|  Bahrain|\n",
      "+--------------------+---------+---------+\n",
      "only showing top 2 rows\n",
      "\n"
     ]
    },
    {
     "data": {
      "text/plain": [
       "18"
      ]
     },
     "execution_count": 9,
     "metadata": {},
     "output_type": "execute_result"
    }
   ],
   "source": [
    "joined_df = circuit_df.join(races_df, races_df.circuit_id == circuit_df.circuitId, \"semi\").\\\n",
    "                        select(circuit_df.circuit_name,\n",
    "                               circuit_df.location,\n",
    "                               circuit_df.country)\n",
    "joined_df.show(2)\n",
    "joined_df.count()\n",
    "# similar to inner join. records present in both df are given as output but columns from left df is only given as output\n",
    "#records from race_df can not be called"
   ]
  },
  {
   "cell_type": "code",
   "execution_count": 10,
   "id": "4651d83c",
   "metadata": {},
   "outputs": [
    {
     "name": "stdout",
     "output_type": "stream",
     "text": [
      "+--------------------+------------+--------+\n",
      "|        circuit_name|    location| country|\n",
      "+--------------------+------------+--------+\n",
      "|Sepang Internatio...|Kuala Lumpur|Malaysia|\n",
      "|       Istanbul Park|    Istanbul|  Turkey|\n",
      "+--------------------+------------+--------+\n",
      "only showing top 2 rows\n",
      "\n"
     ]
    },
    {
     "data": {
      "text/plain": [
       "51"
      ]
     },
     "execution_count": 10,
     "metadata": {},
     "output_type": "execute_result"
    }
   ],
   "source": [
    "joined_df = circuit_df.join(races_df, races_df.circuit_id == circuit_df.circuitId, \"anti\").\\\n",
    "                        select(circuit_df.circuit_name,\n",
    "                               circuit_df.location,\n",
    "                               circuit_df.country)\n",
    "joined_df.show(2)\n",
    "joined_df.count()\n",
    "# oposite of inner join. records not present in both df are given as output but columns from left df is only given as output\n",
    "#records from race_df can not be called"
   ]
  },
  {
   "cell_type": "code",
   "execution_count": 12,
   "id": "a6b5e730",
   "metadata": {},
   "outputs": [
    {
     "name": "stdout",
     "output_type": "stream",
     "text": [
      "+--------------------+------------+---------+\n",
      "|        circuit_name|    location|  country|\n",
      "+--------------------+------------+---------+\n",
      "|Albert Park Grand...|   Melbourne|Australia|\n",
      "|Sepang Internatio...|Kuala Lumpur| Malaysia|\n",
      "+--------------------+------------+---------+\n",
      "only showing top 2 rows\n",
      "\n",
      "cartesian product: 1449\n"
     ]
    }
   ],
   "source": [
    "joined_df = circuit_df.crossJoin(races_df).\\\n",
    "                        select(circuit_df.circuit_name,\n",
    "                               circuit_df.location,\n",
    "                               circuit_df.country)\n",
    "joined_df.show(2)\n",
    "joined_df.count()\n",
    "print(f\"cartesian product: {circuit_df.count() * races_df.count()}\")"
   ]
  },
  {
   "cell_type": "code",
   "execution_count": null,
   "id": "8bac18e6",
   "metadata": {},
   "outputs": [],
   "source": []
  }
 ],
 "metadata": {
  "kernelspec": {
   "display_name": "Python 3 (ipykernel)",
   "language": "python",
   "name": "python3"
  },
  "language_info": {
   "codemirror_mode": {
    "name": "ipython",
    "version": 3
   },
   "file_extension": ".py",
   "mimetype": "text/x-python",
   "name": "python",
   "nbconvert_exporter": "python",
   "pygments_lexer": "ipython3",
   "version": "3.8.18"
  }
 },
 "nbformat": 4,
 "nbformat_minor": 5
}
