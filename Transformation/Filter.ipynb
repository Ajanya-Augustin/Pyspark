{
 "cells": [
  {
   "cell_type": "code",
   "execution_count": 1,
   "id": "b9d20f38",
   "metadata": {},
   "outputs": [],
   "source": [
    "import findspark\n",
    "findspark.init()\n",
    "import pyspark\n",
    "from pyspark import SparkContext , SparkConf\n",
    "from pyspark.sql import SparkSession\n",
    "conf = SparkConf().setAppName('join_filter').setMaster('local')\n",
    "sc = SparkContext(conf = conf)\n",
    "spark = SparkSession(sc)"
   ]
  },
  {
   "cell_type": "code",
   "execution_count": 2,
   "id": "6e5530ed",
   "metadata": {},
   "outputs": [],
   "source": [
    "from pyspark.sql.functions import col"
   ]
  },
  {
   "cell_type": "code",
   "execution_count": 3,
   "id": "ceef8a19",
   "metadata": {
    "scrolled": true
   },
   "outputs": [
    {
     "name": "stdout",
     "output_type": "stream",
     "text": [
      "+------+----+-----+---------+--------------------+-------------------+--------+--------------------+\n",
      "|raceId|year|round|circuitId|                name|               date|    time|                 url|\n",
      "+------+----+-----+---------+--------------------+-------------------+--------+--------------------+\n",
      "|     1|2009|    1|        1|Australian Grand ...|2009-03-29 00:00:00|06:00:00|http://en.wikiped...|\n",
      "|     2|2009|    2|        2|Malaysian Grand Prix|2009-04-05 00:00:00|09:00:00|http://en.wikiped...|\n",
      "+------+----+-----+---------+--------------------+-------------------+--------+--------------------+\n",
      "only showing top 2 rows\n",
      "\n"
     ]
    }
   ],
   "source": [
    "race_df = spark.read.csv(\"races.csv\", header = True, inferSchema = True)\n",
    "race_df.show(2)"
   ]
  },
  {
   "cell_type": "code",
   "execution_count": 4,
   "id": "d5f51e84",
   "metadata": {},
   "outputs": [
    {
     "name": "stdout",
     "output_type": "stream",
     "text": [
      "+------+----+-----+---------+--------------------+-------------------+--------+--------------------+\n",
      "|raceId|year|round|circuitId|                name|               date|    time|                 url|\n",
      "+------+----+-----+---------+--------------------+-------------------+--------+--------------------+\n",
      "|  1010|2019|    1|        1|Australian Grand ...|2019-03-17 00:00:00|05:10:00|https://en.wikipe...|\n",
      "|  1011|2019|    2|        3|  Bahrain Grand Prix|2019-03-31 00:00:00|15:10:00|https://en.wikipe...|\n",
      "|  1012|2019|    3|       17|  Chinese Grand Prix|2019-04-14 00:00:00|06:10:00|https://en.wikipe...|\n",
      "|  1013|2019|    4|       73|Azerbaijan Grand ...|2019-04-28 00:00:00|12:10:00|https://en.wikipe...|\n",
      "|  1014|2019|    5|        4|  Spanish Grand Prix|2019-05-12 00:00:00|13:10:00|https://en.wikipe...|\n",
      "+------+----+-----+---------+--------------------+-------------------+--------+--------------------+\n",
      "\n"
     ]
    }
   ],
   "source": [
    "# races_filtered_df = race_df.filter(\"year = 2019 and round<=5\")\n",
    "# races_filtered_df.show()\n",
    "races_filtered_df = race_df.where(\"year = 2019 and round<=5\")\n",
    "races_filtered_df.show()"
   ]
  },
  {
   "cell_type": "code",
   "execution_count": 5,
   "id": "a1f10ae0",
   "metadata": {},
   "outputs": [
    {
     "name": "stdout",
     "output_type": "stream",
     "text": [
      "+------+----+-----+---------+--------------------+-------------------+--------+--------------------+\n",
      "|raceId|year|round|circuitId|                name|               date|    time|                 url|\n",
      "+------+----+-----+---------+--------------------+-------------------+--------+--------------------+\n",
      "|  1010|2019|    1|        1|Australian Grand ...|2019-03-17 00:00:00|05:10:00|https://en.wikipe...|\n",
      "|  1011|2019|    2|        3|  Bahrain Grand Prix|2019-03-31 00:00:00|15:10:00|https://en.wikipe...|\n",
      "|  1012|2019|    3|       17|  Chinese Grand Prix|2019-04-14 00:00:00|06:10:00|https://en.wikipe...|\n",
      "|  1013|2019|    4|       73|Azerbaijan Grand ...|2019-04-28 00:00:00|12:10:00|https://en.wikipe...|\n",
      "|  1014|2019|    5|        4|  Spanish Grand Prix|2019-05-12 00:00:00|13:10:00|https://en.wikipe...|\n",
      "+------+----+-----+---------+--------------------+-------------------+--------+--------------------+\n",
      "\n"
     ]
    }
   ],
   "source": [
    "# races_filtered_df = race_df.filter((race_df[\"year\"] == 2019) & (race_df.round <=5))\n",
    "# races_filtered_df.show()\n",
    "#where is an alias of filter\n",
    "races_filtered_df = race_df.where((col(\"year\") == 2019) & (race_df.round <=5))\n",
    "races_filtered_df.show()"
   ]
  }
 ],
 "metadata": {
  "kernelspec": {
   "display_name": "Python 3 (ipykernel)",
   "language": "python",
   "name": "python3"
  },
  "language_info": {
   "codemirror_mode": {
    "name": "ipython",
    "version": 3
   },
   "file_extension": ".py",
   "mimetype": "text/x-python",
   "name": "python",
   "nbconvert_exporter": "python",
   "pygments_lexer": "ipython3",
   "version": "3.8.18"
  }
 },
 "nbformat": 4,
 "nbformat_minor": 5
}
